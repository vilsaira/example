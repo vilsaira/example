{
  "nbformat": 4,
  "nbformat_minor": 0,
  "metadata": {
    "colab": {
      "name": "MATRENA-014-dMRI-ADC.ipynb",
      "provenance": [],
      "collapsed_sections": [],
      "authorship_tag": "ABX9TyMy8J+c0EAzut/ksJvX37oj",
      "include_colab_link": true
    },
    "kernelspec": {
      "name": "python3",
      "display_name": "Python 3"
    },
    "language_info": {
      "name": "python"
    }
  },
  "cells": [
    {
      "cell_type": "markdown",
      "metadata": {
        "id": "view-in-github",
        "colab_type": "text"
      },
      "source": [
        "<a href=\"https://colab.research.google.com/github/vilsaira/example/blob/main/MATRENA_014_dMRI_ADC.ipynb\" target=\"_parent\"><img src=\"https://colab.research.google.com/assets/colab-badge.svg\" alt=\"Open In Colab\"/></a>"
      ]
    },
    {
      "cell_type": "markdown",
      "source": [
        "# Laskuharjoitus diffuusiopainotetusta magneettikuvantamisesta (dMRI)\n",
        "\n",
        "Näennäinen diffuusiovakio (apparent diffusion coefficient, ADC) mahdollistaa mm. aivoinfarktin varhaisen havaitsemisen, joka on eduksi potilaan elämänlaatua ja ajatellen. Aivoinfarkteissa oleellista on olla nopea, joten lyhyet kuvausajat ovat eduksi. Mielenkiintoiseksi ADC:n tekee se, että sitä ei mitata suoraan vaan se on laskennallinen kuva, joka perustuu dMRI-kuvaukseen.\n",
        "Taustatietona tehtävään on tietenkin oppikirja, mutta lisäksi Siemensin julkaisema white paper, joka kertoo kuinka ADC heidän mielestään tulisi määrittää [Sic]. Linkki julkaisuun on tässä http://clinical-mri.com/wp-content/uploads/software_hardware_updates/Graessner.pdf.\n",
        "\n",
        "Siemensin julkaisussa on vähintään yksi virheellinen suositus. Tehtäväsi on löytää ja korjata se. Virheen osoittamiseen voit halutessasi hyödyntää alla olevasta taulukosta löytyviä dMRI-mittapisteitä.\n",
        "\n",
        "Taulukko sisältää mittauksissa käytetyt diffuusiopainotukset eli b-arvot sekä vastaavat ”todelliset” mittaustulokset eli signaalit. Tosimaailmassa mittaustuloksissa on kuitenkin kohinaa ja siksi mittaus on toistettu kolmeen kertaan. Tässä esimerkissä signaalikohinasuhde (SNR) on huomattavasti todellisuutta pienempi, jotta sen vaikutus on helpommin havaittavissa. Voit kuvitella, että nämä signaalit ovat mitattu yhdestä kuva-alkiosta (voxelista) dMRI-kuvissa. Mittaustuloksen yksiköillä ei ole merkitystä tässä tapauksessa.\n",
        "\n",
        "ADC voidaan ratkaista taulukosta yhtälön $S_{b>0}=S_{b=0}⋅e^\\left(-b⋅ADC\\right)$ avulla eli sovittamalla dataan eksponenttifunktion. Tapoja funktiosovituksiin on monia ja siksi ratkaisutapa on vapaa. Numeerinen ratkaisu perustuen joko annettuun taulukkoon tai muuhun mielekkääseen simulaatioon hyväksytään. Jos saat käsiisi jostain tehtävään sopivaa dMRI-dataa, niin senkin käyttö on hyväksyttävää, mutta ei edellytys. Ratkaisu on myös mahdollista tehdä puhtaan teoreettisesti, sillä tämä on niitä harvoja käytännön ongelmia, joilla on myös analyyttinen ratkaisu!\n",
        "\n",
        "Vinkki 1: Löydettävä virhe liittyy julkaisun kappaleisiin “**Why should I measure three b-values for a DWI protocol when two would be enough for calculating ADC?**” ja “**How is the ADC calculated?**”.\n"
      ],
      "metadata": {
        "id": "hiIzlLKJPODG"
      }
    },
    {
      "cell_type": "markdown",
      "source": [
        "# Ratkaisu"
      ],
      "metadata": {
        "id": "wU8CBgHaQWnv"
      }
    },
    {
      "cell_type": "markdown",
      "source": [
        "Ladataan ensin tarpeelliset Python kirjastot"
      ],
      "metadata": {
        "id": "eFoU8FleQfKP"
      }
    },
    {
      "cell_type": "code",
      "source": [
        "import numpy as np # matriisilaskenta\n",
        "import matplotlib.pyplot as plt # kuvien plottaus"
      ],
      "metadata": {
        "id": "IGhl1NFjQcI-"
      },
      "execution_count": null,
      "outputs": []
    },
    {
      "cell_type": "markdown",
      "source": [
        "Seuraavaksi tallennetaan tehtävässä käytettävät mittaukset Numpy-taulukkoon ongelman ratkaisemiseksi."
      ],
      "metadata": {
        "id": "ywJ_ZWJrQzx-"
      }
    },
    {
      "cell_type": "code",
      "source": [
        "# b-arvot eli diffuusiopainotus\n",
        "b = np.array([0, 0, 0, 0.5, 0.5, 0.5, 1.0, 1.0, 1.0])\n",
        "# todelliset signaaliarvot\n",
        "signal = np.array([1000, 1000, 1000, 640.8243, 640.8243, 640.8243, 410.6558, 410.6558, 410.6558])\n",
        "# kohinainen signaali\n",
        "noisy_signal = np.array([1027.024, 1121.748, 860.6646, 556.1274, 352.9507, 485.3491, 543.4734, 476.9008, 248.9531])"
      ],
      "metadata": {
        "id": "SWQZuOtJRAtW"
      },
      "execution_count": null,
      "outputs": []
    },
    {
      "cell_type": "markdown",
      "source": [
        "Tarkastellaan miltä mittaukset näyttävät."
      ],
      "metadata": {
        "id": "Kv-WH4UQRksA"
      }
    },
    {
      "cell_type": "code",
      "source": [
        "plt.scatter(b, signal, label = 'todellinen', marker='x', s=100)\n",
        "plt.scatter(b, noisy_signal, label = 'kohinainen')\n",
        "plt.xlabel(\"Diffuusipainotus eli b-arvo\")\n",
        "plt.ylabel(\"signaali\")\n",
        "plt.legend()"
      ],
      "metadata": {
        "colab": {
          "base_uri": "https://localhost:8080/",
          "height": 296
        },
        "id": "_c2N89v1RMSP",
        "outputId": "a45c313f-4c6a-485c-bc0a-e9a715b843a7"
      },
      "execution_count": null,
      "outputs": [
        {
          "output_type": "execute_result",
          "data": {
            "text/plain": [
              "<matplotlib.legend.Legend at 0x7f113d904b90>"
            ]
          },
          "metadata": {},
          "execution_count": 3
        },
        {
          "output_type": "display_data",
          "data": {
            "text/plain": [
              "<Figure size 432x288 with 1 Axes>"
            ],
            "image/png": "[encoded data removed]"
          },
          "metadata": {
            "needs_background": "light"
          }
        }
      ]
    },
    {
      "cell_type": "markdown",
      "source": [
        "Siemensin julkaisun perusteella ADC lasketaan log-linearisoinnin avulla, joten katsotaan, miltä mittaukset näyttävät muunnoksen jälkeen."
      ],
      "metadata": {
        "id": "aP5TUcXPUVKk"
      }
    },
    {
      "cell_type": "code",
      "source": [
        "log_signal = np.log(signal) # Numpyn log() luonnollinen logaritmi eli esim. Excelin LN()\n",
        "log_noisy_signal = np.log(noisy_signal)\n",
        "plt.scatter(b, log_signal, label = 'todellinen (log)', marker='x', s=100)\n",
        "plt.scatter(b, log_noisy_signal, label = 'kohinainen (log)')\n",
        "plt.xlabel(\"Diffuusipainotus eli b-arvo\")\n",
        "plt.ylabel(\"Log(signaali)\")\n",
        "plt.legend()"
      ],
      "metadata": {
        "colab": {
          "base_uri": "https://localhost:8080/",
          "height": 296
        },
        "id": "-IFPmuwtUkxp",
        "outputId": "63381cb5-7317-4f13-f439-195ebe17fbe1"
      },
      "execution_count": null,
      "outputs": [
        {
          "output_type": "execute_result",
          "data": {
            "text/plain": [
              "<matplotlib.legend.Legend at 0x7f11395c4b90>"
            ]
          },
          "metadata": {},
          "execution_count": 4
        },
        {
          "output_type": "display_data",
          "data": {
            "text/plain": [
              "<Figure size 432x288 with 1 Axes>"
            ],
            "image/png": "[encoded data removed]"
          },
          "metadata": {
            "needs_background": "light"
          }
        }
      ]
    },
    {
      "cell_type": "markdown",
      "source": [
        "Sovitetaan log-lineaariseen dataan suora käyttäen kaikkia mittapisteitä.\n",
        "\n",
        "Lineaarinen systeemi $\\mathbf{y}=\\beta_0 + \\beta_1 \\cdot \\mathbf{x} + \\mathbf{\\epsilon}$ voidaan esittää matriisimuodossa\n",
        "$\\mathbf{y} = \\mathbf{X}\\beta+ \\mathbf{\\epsilon}$, jolloin ongelman parametrit $\\beta$ voidaan ratkaista esimerkiksi pienimmän neliösumman menetelmällä minimoimalla $S\\left(\\beta\\right)=||\\mathbf{y} - \\mathbf{X}\\beta||^2$.\n",
        "\n",
        "$$ \\mathbf{y} = \\mathbf{X}\\beta $$\n",
        "$$ \\mathbf{X}^{\\top}\\mathbf{y} = \\mathbf{X}^{\\top}\\mathbf{X}\\beta $$\n",
        "$$ \\hat{\\beta} = \\left(\\mathbf{X}^{\\top}\\mathbf{X}\\right)^{-1} \\mathbf{X}^{\\top}\\mathbf{y} $$"
      ],
      "metadata": {
        "id": "nDxv8VkOVEwC"
      }
    },
    {
      "cell_type": "code",
      "source": [
        "# Lineaarisen ongelman suunnittelumatriisi X\n",
        "N = len(noisy_signal) # Mittapisteiden lukumäärä (9)\n",
        "X = np.ones((N,2))\n",
        "X[:,1] = b\n",
        "print(X)"
      ],
      "metadata": {
        "colab": {
          "base_uri": "https://localhost:8080/"
        },
        "id": "0VZwu7oIVSoq",
        "outputId": "65e4dc1e-d51c-4828-aa90-a1dae80323c4"
      },
      "execution_count": null,
      "outputs": [
        {
          "output_type": "stream",
          "name": "stdout",
          "text": [
            "[[1.  0. ]\n",
            " [1.  0. ]\n",
            " [1.  0. ]\n",
            " [1.  0.5]\n",
            " [1.  0.5]\n",
            " [1.  0.5]\n",
            " [1.  1. ]\n",
            " [1.  1. ]\n",
            " [1.  1. ]]\n"
          ]
        }
      ]
    },
    {
      "cell_type": "markdown",
      "source": [
        "Lineaarisen ongelman parametrien ratkaisu. Tämä siis käyttäen kohinaisen signaalin logaritmia."
      ],
      "metadata": {
        "id": "lkfYqtnRKth5"
      }
    },
    {
      "cell_type": "code",
      "source": [
        "beta = np.linalg.pinv(X.T @ X) @ X.T @ log_noisy_signal\n",
        "print(f\"leikkauspiste (beta0) = {beta[0]}\")\n",
        "print(f\"ADC eli kulmakerroin (beta1) = {beta[1]}\")"
      ],
      "metadata": {
        "colab": {
          "base_uri": "https://localhost:8080/"
        },
        "id": "TSu9xGJyWSdK",
        "outputId": "b6837575-65c7-46fc-ce0c-24860ecd7a79"
      },
      "execution_count": null,
      "outputs": [
        {
          "output_type": "stream",
          "name": "stdout",
          "text": [
            "leikkauspiste (beta0) = 6.796426625245378\n",
            "ADC eli kulmakerroin (beta1) = -0.9107383768929909\n"
          ]
        }
      ]
    },
    {
      "cell_type": "markdown",
      "source": [
        "Verrataan mittaustuloksiin graafisesti."
      ],
      "metadata": {
        "id": "73yDKuQaNx9p"
      }
    },
    {
      "cell_type": "code",
      "source": [
        "t = np.array([0,1])\n",
        "y = beta[0] + beta[1] * t\n",
        "plt.scatter(b, log_noisy_signal, label = 'kohinainen (log)')\n",
        "plt.plot(t, y, label = 'Sovitus kaikki mittapisteet')\n",
        "plt.xlabel(\"Diffuusipainotus eli b-arvo\")\n",
        "plt.ylabel(\"Log(signaali)\")\n",
        "plt.legend()"
      ],
      "metadata": {
        "colab": {
          "base_uri": "https://localhost:8080/",
          "height": 296
        },
        "id": "5hr35N7vN2qX",
        "outputId": "0936cde5-a8c3-4610-c9bb-5da1d6e1a7c4"
      },
      "execution_count": null,
      "outputs": [
        {
          "output_type": "execute_result",
          "data": {
            "text/plain": [
              "<matplotlib.legend.Legend at 0x7f11391014d0>"
            ]
          },
          "metadata": {},
          "execution_count": 7
        },
        {
          "output_type": "display_data",
          "data": {
            "text/plain": [
              "<Figure size 432x288 with 1 Axes>"
            ],
            "image/png": "[encoded data removed]"
          },
          "metadata": {
            "needs_background": "light"
          }
        }
      ]
    },
    {
      "cell_type": "markdown",
      "source": [
        "Toiveena oli, että tähän kuvaajaan asti olisi päässyt. Arvot oli valittu siten, että kuvaajan **kiikkulauta** toimisi jatkovihjeenä. Mitä tapahtuu, jos kiikkulautaa (tai vaakaa) nostaa sen keskiakselista? Tai laskee? Muuttuuko kulmakerroin (siis ADC)?\n",
        "\n",
        "Lasketaanpa huvin ja urheilun vuoksi ADC uudelleen, mutta jätetään keskimmäiset mittapisteet käyttämättä. Elegantti tapa suorittaa tämä, on käyttää painotettua pienimmän neliösumman menetelmää ja laskea $b=0.5$ mittapisteiden paino nollaksi. Minimoidaan siis  \n",
        "$$S\\left(\\beta\\right) = ||\\mathbf{W}^{\\frac{1}{2}}\\left(\\mathbf{y} - \\mathbf{X}\\beta\\right)||^2$$,\n",
        "mistä saadaan parametrit ratkaistua seuraavasti\n",
        "$$ \\hat{\\beta} = \\left(\\mathbf{X}^{\\top} \\mathbf{W} \\mathbf{X}\\right)^{-1} \\mathbf{X}^{\\top} \\mathbf{W} \\mathbf{y} $$\n",
        "\n",
        "Asettamalla $b=0.5$ painoarvot nolliksi, vastaa tilannetta, missä kyseiset mittauksen otettaisiin kokonaan pois log_noisy_signal ja $\\mathbf{X}$ matriiseista."
      ],
      "metadata": {
        "id": "XASLNo7RO8Dp"
      }
    },
    {
      "cell_type": "code",
      "source": [
        "weights = np.array([1,1,1,0,0,0,1,1,1]) # painoarvot\n",
        "W = np.diag(weights) # Matriisilaskenta-algoritmit edellyttävät neliömatriisia.\n",
        "# Tämä ei ole usein optimaalinen tapa, jos mittapisteitä on paljon, koska matriisi W on suurimmaksi osaksi nollia täynnä.\n",
        "beta_w = np.linalg.pinv(X.T @ W @ X) @ X.T @ W @ log_noisy_signal\n",
        "print(f\"leikkauspiste (beta_w0) = {beta_w[0]}\")\n",
        "print(f\"ADC eli kulmakerroin (beta_w1) = {beta_w[1]}\")\n",
        "print(f\"ADC arvojen ero {beta[1] - beta_w[1]}\")"
      ],
      "metadata": {
        "colab": {
          "base_uri": "https://localhost:8080/"
        },
        "id": "R7y50RonQJLp",
        "outputId": "c27885d6-6760-4684-d7d1-a152c4fd9baf"
      },
      "execution_count": null,
      "outputs": [
        {
          "output_type": "stream",
          "name": "stdout",
          "text": [
            "leikkauspiste (beta_w0) = 6.904922974037941\n",
            "ADC eli kulmakerroin (beta_w1) = -0.9107383768929851\n",
            "ADC arvojen ero -5.773159728050814e-15\n"
          ]
        }
      ]
    },
    {
      "cell_type": "markdown",
      "source": [
        "Ero aiempaan ADC arvoon on siis luokkaa $10^{-15}$ eli menee numeerisen epätarkkuuden piiriin! Keskimmäisten mittapisteiden vaikutus kulmakertoimeen näyttäisi empiirisesti olevan häviävän pieni."
      ],
      "metadata": {
        "id": "xg5H30NhSikB"
      }
    },
    {
      "cell_type": "markdown",
      "source": [
        "Ehkä huijasin teitä, ja tein jotain kavalaa tuon painotetun ratkaisun kanssa. Joten tarkistetaanpa asia muuttamalla alkuperäisiä log_noisy_signal tuloksia hieman."
      ],
      "metadata": {
        "id": "ZAA4GQZvTuDg"
      }
    },
    {
      "cell_type": "code",
      "source": [
        "log_noisy_signal_sic = log_noisy_signal.copy()\n",
        "log_noisy_signal_sic[3:6] = 10 # Asetetaan kaikki b=0.5 mittaukset arvoltaan kymmeneksi.\n",
        "beta_sic = np.linalg.pinv(X.T @ X) @ X.T @ log_noisy_signal_sic\n",
        "print(f\"leikkauspiste (beta0) = {beta_sic[0]}\")\n",
        "print(f\"ADC eli kulmakerroin (beta1) = {beta_sic[1]}\")"
      ],
      "metadata": {
        "colab": {
          "base_uri": "https://localhost:8080/"
        },
        "id": "QNIhFiD-T3-v",
        "outputId": "edc305bc-6ae2-4429-e57c-88e90509fcf2"
      },
      "execution_count": null,
      "outputs": [
        {
          "output_type": "stream",
          "name": "stdout",
          "text": [
            "leikkauspiste (beta0) = 8.088405045507459\n",
            "ADC eli kulmakerroin (beta1) = -0.9107383768929918\n"
          ]
        }
      ]
    },
    {
      "cell_type": "markdown",
      "source": [
        "Kulmakerroin on edelleen sama! Plotataanpa aiempi suora ja tämä viimeisin vierekkäin:"
      ],
      "metadata": {
        "id": "sFOWOrqKUNVR"
      }
    },
    {
      "cell_type": "code",
      "source": [
        "t = np.array([0,1])\n",
        "y = beta[0] + beta[1] * t\n",
        "y_sic = beta_sic[0] + beta_sic[1] * t\n",
        "plt.scatter(b, log_noisy_signal_sic, label = 'sic (log)')\n",
        "plt.plot(t, y, label = 'Suora, alkuperäinen')\n",
        "plt.plot(t, y_sic, label = 'Suora, sic')\n",
        "plt.xlabel(\"Diffuusipainotus eli b-arvo\")\n",
        "plt.ylabel(\"Log(signaali)\")\n",
        "plt.legend()"
      ],
      "metadata": {
        "colab": {
          "base_uri": "https://localhost:8080/",
          "height": 296
        },
        "id": "fLByFHPSUff5",
        "outputId": "f2817ff6-28cf-4519-cf6f-602dbb477786"
      },
      "execution_count": null,
      "outputs": [
        {
          "output_type": "execute_result",
          "data": {
            "text/plain": [
              "<matplotlib.legend.Legend at 0x7f1139022e50>"
            ]
          },
          "metadata": {},
          "execution_count": 10
        },
        {
          "output_type": "display_data",
          "data": {
            "text/plain": [
              "<Figure size 432x288 with 1 Axes>"
            ],
            "image/png": "[encoded data removed]"
          },
          "metadata": {
            "needs_background": "light"
          }
        }
      ]
    },
    {
      "cell_type": "markdown",
      "source": [
        "Eli näyttäisi siltä, että ADC ei tosiaan riipu lainkaan keskimmäisestä mittapisteestä. Tälle on paljon hyviä analogioita kiikkukeinun lisäksi, esim. vipuvarsi. Mitä kauempana mittapiste on janan keskipisteestä, sitä suurempi painoarvo sillä on kulmakertoimeen. Keskellä olevan mittapisteen painoarvo sen sijaan on nolla. **Tälle on analyyttinen ratkaisukin!**\n",
        "\n",
        "Suoran sovituksessa kulmakerroin (ADC) $n$ mittapisteestä voidaan ratkaista seuraavasta yhtälöstä {Linear Regression and Correlation. Kenney 1962}:\n",
        "\n",
        "$$ADC = \\frac{\\sum_{i=1}^{n} \\left(x_i - \\overline{x} \\right) \\left(y_i - \\overline{y} \\right)} {\\sum_{i=1}^{n} \\left(x_i - \\overline{x} \\right)^2} \\tag{1},$$\n",
        "\n",
        "missä $\\overline{y}$ on mitta-arvojen keskiarvo ja $\\overline{x}$ on mittapisteiden keskiarvo. Kuvitellaan, että meillä on yksi mittapiste $x_m=\\overline{x}$, jonka arvo on $y_m$.  Yhtälössä (1) ainoastaan nimittäjä riippuu arvosta $y_m$, joten tarkastellaan vain sitä ja irroitetaan tämä keskimääräinen mittapiste $m$ summasta:\n",
        "\n",
        "$$ \\sum_{i=1}^{n} \\left(x_i - \\overline{x} \\right) \\left( y_i - \\overline{y} \\right) = \\left(x_m - \\overline{x} \\right) \\left(y_m - \\overline{y} \\right) + \\sum_{i=1,i\\neq m}^n \\left(x_i - \\overline{x} \\right) \\left( y_i - \\overline{y} \\right) \\tag{2} $$\n",
        "\n",
        "Yhtälön 2 oikean puolen ensimmäinen termi on nolla, koska valittu mittapiste $x_m = \\overline{x}$. Jäljelle jäävässä summatermissä ainoastaan mittapisteiden keskiarvo $\\overline{y}$ voisi olla riippuvainen mitta-arvosta ${y_m}$. Lavennetaan yhtälön 2 summatermi:\n",
        "\n",
        "$$ \\sum_{i=1,i\\neq m}^n \\left(x_i - \\overline{x} \\right) \\left( y_i - \\overline{y} \\right) = x_i y_i - \\overline{x}y_i - x_i \\overline{y} + \\overline{x}\\overline{y} = x_i y_i - \\overline{x}y_i + \\left(\\overline{x} - x_i \\right)\\overline{y} \\tag{3} $$\n",
        "\n",
        "Ainoastaan viimeinen termi yhtälössä 3 voisi olla riippuvainen mittapisteestä $y_m$, joten lavennetaan sitä edelleen.\n",
        "\n",
        "$$ \\sum_{i=1,i\\neq m}^n \\left(\\overline{x} - x_i \\right) = \\left(n-1\\right)\\overline{x} - \\sum_{i=1,i\\neq m}^n x_i = \\left(n-1\\right)\\overline{x} - \\left( \\sum_{i=1}^n x_i -x_m \\right) = \\left(n-1\\right)\\overline{x} - \\left( n \\frac{1}{n} \\sum_{i=1}^n x_i -x_m \\right) \\tag{4} $$\n",
        "\n",
        "Mittapiste $x_m = \\overline{x}$ ja keskiarvo $\\frac{1}{n}\\sum_{i=1}^{n} x_i = \\overline{x}$. Sijoitetaan nämä yhtälöön 4 ja lavennetaan.\n",
        "\n",
        "$$ \\left(n-1\\right)\\overline{x} - \\left( n \\frac{1}{n} \\sum_{i=1}^n x_i -x_m \\right) = \\left(n-1\\right)\\overline{x} - \\left( n\\overline{x} - x_m \\right) = n\\overline{x} - \\overline{x} - n\\overline{x} + x_m = 0$$\n",
        "\n",
        "Eli keskimääräinen mitta-arvo $y_m$ kerrotaan nollalla! Kulmakerroin ei siis voi riippua lainkaan tästä mittapisteestä. Sijoitetaan vielä nämä kaikki välivaiheet yhtälöön 1:\n",
        "\n",
        "$$ ADC = \\frac{\\sum_{i=1}^{n} \\left(x_i - \\overline{x} \\right) \\left(y_i - \\overline{y} \\right)} {\\sum_{i=1}^{n} \\left(x_i - \\overline{x} \\right)^2} = \\frac{\\sum_{i=1,i\\neq m}^n \\left(x_i y_i - \\overline{x} y_i \\right)} {\\sum_{i=1}^{n} \\left(x_i - \\overline{x} \\right)^2} \\tag{6} $$\n",
        "\n",
        "Sijoittamalla esimerkin arvot yhtälöön 6 saadaan ADC:n arvoksi sama kuin lineaarisen regression numeerisella ratkasulla."
      ],
      "metadata": {
        "id": "Wi1R0jmxVFaq"
      }
    },
    {
      "cell_type": "code",
      "source": [
        "# Lasketaan ADC yhtälön 6 avulla\n",
        "# x-akseli on b-arvot\n",
        "# y-akseli on log_noisy_signal\n",
        "\n",
        "x = b\n",
        "x_m = np.average(x)\n",
        "y = log_noisy_signal\n",
        "\n",
        "A = 0\n",
        "B = 0\n",
        "for i in range(N):\n",
        "  if not (x[i] == x_m):\n",
        "    A += (x[i] * y[i]) - (x_m * y[i])\n",
        "    B += (x[i] - x_m)**2\n",
        "\n",
        "ADC = A/B\n",
        "print(f\"Suoran sovitus kaikkiin mittapisteisiin, ADC = {beta[1]}\")\n",
        "print(f\"Painotettu suoran sovitus, ADC_w = {beta_w[1]}\")\n",
        "print(f\"Analyyttinen ratkaisu, ADC = {ADC}\")"
      ],
      "metadata": {
        "colab": {
          "base_uri": "https://localhost:8080/"
        },
        "id": "2qOzX8m1sHre",
        "outputId": "725839b3-5900-4a2b-ad99-65a8582a1706"
      },
      "execution_count": null,
      "outputs": [
        {
          "output_type": "stream",
          "name": "stdout",
          "text": [
            "Suoran sovitus kaikkiin mittapisteisiin, ADC = -0.9107383768929909\n",
            "Painotettu suoran sovitus, ADC_w = -0.9107383768929851\n",
            "Analyyttinen ratkaisu, ADC = -0.9107383768929868\n"
          ]
        }
      ]
    },
    {
      "cell_type": "markdown",
      "source": [
        "Yhteenveto: Siemensin suositus on matematiikan vastainen ja johtaa joko pidempään kuvausaikaan tai huonompaan kuvanlaatuun, kuin loogisesti valittu sekvenssi tuottaisi. Valitettavasti tämä suositus on levinnyt laajalle, koska suoran sovitus on ilmeisesti hankala asia. Esimerkiksi, ACR PI-RADS (American College of Radiologi, Prostate Imaging Reporting & Data System) suositus on käyttää juurikin samanlaista kuvausta ja tämä on otettu käyttöön myös HUS:ssa käyttäen useita b=mean(b) arvoja. **Tämä pidentää potilaskohtaista kuvausaikaa minuutista kahteen turhaan lukuisissa kliinissä protokollissa ilmeisesti kautta maailman.** "
      ],
      "metadata": {
        "id": "Aw0hFQ3bttZ_"
      }
    }
  ]
}