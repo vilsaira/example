{
  "nbformat": 4,
  "nbformat_minor": 0,
  "metadata": {
    "colab": {
      "name": "dMRI_signal_GP_prediction.ipynb",
      "provenance": [],
      "collapsed_sections": [],
      "authorship_tag": "ABX9TyODoqdJOl44A2gxxIFz9V/+",
      "include_colab_link": true
    },
    "kernelspec": {
      "name": "python3",
      "display_name": "Python 3"
    },
    "language_info": {
      "name": "python"
    },
    "widgets": {
      "application/vnd.jupyter.widget-state+json": {
        "2e77dc2a4c4448639ff07d55ef73980d": {
          "model_module": "@jupyter-widgets/controls",
          "model_name": "HBoxModel",
          "model_module_version": "1.5.0",
          "state": {
            "_view_name": "HBoxView",
            "_dom_classes": [],
            "_model_name": "HBoxModel",
            "_view_module": "@jupyter-widgets/controls",
            "_model_module_version": "1.5.0",
            "_view_count": null,
            "_view_module_version": "1.5.0",
            "box_style": "",
            "layout": "IPY_MODEL_17fd7594d25f4376b4014eba26a67c3e",
            "_model_module": "@jupyter-widgets/controls",
            "children": [
              "IPY_MODEL_b271e214d2a2419e876d25c718d9e556",
              "IPY_MODEL_5a7aea5c45ac495a8fec70a3304df36b",
              "IPY_MODEL_6c77dd9bd5fa4382b46de9133cf607a4"
            ]
          }
        },
        "17fd7594d25f4376b4014eba26a67c3e": {
          "model_module": "@jupyter-widgets/base",
          "model_name": "LayoutModel",
          "model_module_version": "1.2.0",
          "state": {
            "_view_name": "LayoutView",
            "grid_template_rows": null,
            "right": null,
            "justify_content": null,
            "_view_module": "@jupyter-widgets/base",
            "overflow": null,
            "_model_module_version": "1.2.0",
            "_view_count": null,
            "flex_flow": null,
            "width": null,
            "min_width": null,
            "border": null,
            "align_items": null,
            "bottom": null,
            "_model_module": "@jupyter-widgets/base",
            "top": null,
            "grid_column": null,
            "overflow_y": null,
            "overflow_x": null,
            "grid_auto_flow": null,
            "grid_area": null,
            "grid_template_columns": null,
            "flex": null,
            "_model_name": "LayoutModel",
            "justify_items": null,
            "grid_row": null,
            "max_height": null,
            "align_content": null,
            "visibility": null,
            "align_self": null,
            "height": null,
            "min_height": null,
            "padding": null,
            "grid_auto_rows": null,
            "grid_gap": null,
            "max_width": null,
            "order": null,
            "_view_module_version": "1.2.0",
            "grid_template_areas": null,
            "object_position": null,
            "object_fit": null,
            "grid_auto_columns": null,
            "margin": null,
            "display": null,
            "left": null
          }
        },
        "b271e214d2a2419e876d25c718d9e556": {
          "model_module": "@jupyter-widgets/controls",
          "model_name": "HTMLModel",
          "model_module_version": "1.5.0",
          "state": {
            "_view_name": "HTMLView",
            "style": "IPY_MODEL_4998443bea5446eeaa8c8a73a4b750be",
            "_dom_classes": [],
            "description": "",
            "_model_name": "HTMLModel",
            "placeholder": "​",
            "_view_module": "@jupyter-widgets/controls",
            "_model_module_version": "1.5.0",
            "value": "100%",
            "_view_count": null,
            "_view_module_version": "1.5.0",
            "description_tooltip": null,
            "_model_module": "@jupyter-widgets/controls",
            "layout": "IPY_MODEL_0693fa8b52f2481d8f6c1ff8c17dc5d8"
          }
        },
        "5a7aea5c45ac495a8fec70a3304df36b": {
          "model_module": "@jupyter-widgets/controls",
          "model_name": "FloatProgressModel",
          "model_module_version": "1.5.0",
          "state": {
            "_view_name": "ProgressView",
            "style": "IPY_MODEL_5bc66012904b404eafa50791728655bb",
            "_dom_classes": [],
            "description": "",
            "_model_name": "FloatProgressModel",
            "bar_style": "success",
            "max": 1409,
            "_view_module": "@jupyter-widgets/controls",
            "_model_module_version": "1.5.0",
            "value": 1409,
            "_view_count": null,
            "_view_module_version": "1.5.0",
            "orientation": "horizontal",
            "min": 0,
            "description_tooltip": null,
            "_model_module": "@jupyter-widgets/controls",
            "layout": "IPY_MODEL_a456b94589304c5f993554d504f2758a"
          }
        },
        "6c77dd9bd5fa4382b46de9133cf607a4": {
          "model_module": "@jupyter-widgets/controls",
          "model_name": "HTMLModel",
          "model_module_version": "1.5.0",
          "state": {
            "_view_name": "HTMLView",
            "style": "IPY_MODEL_47bc183609f74533948a8bbfcc1f8fc7",
            "_dom_classes": [],
            "description": "",
            "_model_name": "HTMLModel",
            "placeholder": "​",
            "_view_module": "@jupyter-widgets/controls",
            "_model_module_version": "1.5.0",
            "value": " 1409/1409 [00:07&lt;00:00, 203.06 MB/s]",
            "_view_count": null,
            "_view_module_version": "1.5.0",
            "description_tooltip": null,
            "_model_module": "@jupyter-widgets/controls",
            "layout": "IPY_MODEL_001ef3d1f2224ff993d31ac78d0937f5"
          }
        },
        "4998443bea5446eeaa8c8a73a4b750be": {
          "model_module": "@jupyter-widgets/controls",
          "model_name": "DescriptionStyleModel",
          "model_module_version": "1.5.0",
          "state": {
            "_view_name": "StyleView",
            "_model_name": "DescriptionStyleModel",
            "description_width": "",
            "_view_module": "@jupyter-widgets/base",
            "_model_module_version": "1.5.0",
            "_view_count": null,
            "_view_module_version": "1.2.0",
            "_model_module": "@jupyter-widgets/controls"
          }
        },
        "0693fa8b52f2481d8f6c1ff8c17dc5d8": {
          "model_module": "@jupyter-widgets/base",
          "model_name": "LayoutModel",
          "model_module_version": "1.2.0",
          "state": {
            "_view_name": "LayoutView",
            "grid_template_rows": null,
            "right": null,
            "justify_content": null,
            "_view_module": "@jupyter-widgets/base",
            "overflow": null,
            "_model_module_version": "1.2.0",
            "_view_count": null,
            "flex_flow": null,
            "width": null,
            "min_width": null,
            "border": null,
            "align_items": null,
            "bottom": null,
            "_model_module": "@jupyter-widgets/base",
            "top": null,
            "grid_column": null,
            "overflow_y": null,
            "overflow_x": null,
            "grid_auto_flow": null,
            "grid_area": null,
            "grid_template_columns": null,
            "flex": null,
            "_model_name": "LayoutModel",
            "justify_items": null,
            "grid_row": null,
            "max_height": null,
            "align_content": null,
            "visibility": null,
            "align_self": null,
            "height": null,
            "min_height": null,
            "padding": null,
            "grid_auto_rows": null,
            "grid_gap": null,
            "max_width": null,
            "order": null,
            "_view_module_version": "1.2.0",
            "grid_template_areas": null,
            "object_position": null,
            "object_fit": null,
            "grid_auto_columns": null,
            "margin": null,
            "display": null,
            "left": null
          }
        },
        "5bc66012904b404eafa50791728655bb": {
          "model_module": "@jupyter-widgets/controls",
          "model_name": "ProgressStyleModel",
          "model_module_version": "1.5.0",
          "state": {
            "_view_name": "StyleView",
            "_model_name": "ProgressStyleModel",
            "description_width": "",
            "_view_module": "@jupyter-widgets/base",
            "_model_module_version": "1.5.0",
            "_view_count": null,
            "_view_module_version": "1.2.0",
            "bar_color": null,
            "_model_module": "@jupyter-widgets/controls"
          }
        },
        "a456b94589304c5f993554d504f2758a": {
          "model_module": "@jupyter-widgets/base",
          "model_name": "LayoutModel",
          "model_module_version": "1.2.0",
          "state": {
            "_view_name": "LayoutView",
            "grid_template_rows": null,
            "right": null,
            "justify_content": null,
            "_view_module": "@jupyter-widgets/base",
            "overflow": null,
            "_model_module_version": "1.2.0",
            "_view_count": null,
            "flex_flow": null,
            "width": null,
            "min_width": null,
            "border": null,
            "align_items": null,
            "bottom": null,
            "_model_module": "@jupyter-widgets/base",
            "top": null,
            "grid_column": null,
            "overflow_y": null,
            "overflow_x": null,
            "grid_auto_flow": null,
            "grid_area": null,
            "grid_template_columns": null,
            "flex": null,
            "_model_name": "LayoutModel",
            "justify_items": null,
            "grid_row": null,
            "max_height": null,
            "align_content": null,
            "visibility": null,
            "align_self": null,
            "height": null,
            "min_height": null,
            "padding": null,
            "grid_auto_rows": null,
            "grid_gap": null,
            "max_width": null,
            "order": null,
            "_view_module_version": "1.2.0",
            "grid_template_areas": null,
            "object_position": null,
            "object_fit": null,
            "grid_auto_columns": null,
            "margin": null,
            "display": null,
            "left": null
          }
        },
        "47bc183609f74533948a8bbfcc1f8fc7": {
          "model_module": "@jupyter-widgets/controls",
          "model_name": "DescriptionStyleModel",
          "model_module_version": "1.5.0",
          "state": {
            "_view_name": "StyleView",
            "_model_name": "DescriptionStyleModel",
            "description_width": "",
            "_view_module": "@jupyter-widgets/base",
            "_model_module_version": "1.5.0",
            "_view_count": null,
            "_view_module_version": "1.2.0",
            "_model_module": "@jupyter-widgets/controls"
          }
        },
        "001ef3d1f2224ff993d31ac78d0937f5": {
          "model_module": "@jupyter-widgets/base",
          "model_name": "LayoutModel",
          "model_module_version": "1.2.0",
          "state": {
            "_view_name": "LayoutView",
            "grid_template_rows": null,
            "right": null,
            "justify_content": null,
            "_view_module": "@jupyter-widgets/base",
            "overflow": null,
            "_model_module_version": "1.2.0",
            "_view_count": null,
            "flex_flow": null,
            "width": null,
            "min_width": null,
            "border": null,
            "align_items": null,
            "bottom": null,
            "_model_module": "@jupyter-widgets/base",
            "top": null,
            "grid_column": null,
            "overflow_y": null,
            "overflow_x": null,
            "grid_auto_flow": null,
            "grid_area": null,
            "grid_template_columns": null,
            "flex": null,
            "_model_name": "LayoutModel",
            "justify_items": null,
            "grid_row": null,
            "max_height": null,
            "align_content": null,
            "visibility": null,
            "align_self": null,
            "height": null,
            "min_height": null,
            "padding": null,
            "grid_auto_rows": null,
            "grid_gap": null,
            "max_width": null,
            "order": null,
            "_view_module_version": "1.2.0",
            "grid_template_areas": null,
            "object_position": null,
            "object_fit": null,
            "grid_auto_columns": null,
            "margin": null,
            "display": null,
            "left": null
          }
        },
        "f766e40b4497470d905fc9823fd367a1": {
          "model_module": "@jupyter-widgets/controls",
          "model_name": "HBoxModel",
          "model_module_version": "1.5.0",
          "state": {
            "_view_name": "HBoxView",
            "_dom_classes": [],
            "_model_name": "HBoxModel",
            "_view_module": "@jupyter-widgets/controls",
            "_model_module_version": "1.5.0",
            "_view_count": null,
            "_view_module_version": "1.5.0",
            "box_style": "",
            "layout": "IPY_MODEL_33e96d5312ec4465b3de2001ba68b81c",
            "_model_module": "@jupyter-widgets/controls",
            "children": [
              "IPY_MODEL_6d8d9b89f7144cb89ecf758a6b9313f4",
              "IPY_MODEL_d06a1d62b68549b58516d289ede27dd3",
              "IPY_MODEL_f22c4572ff1049bbbd6bf619449eaa0b"
            ]
          }
        },
        "33e96d5312ec4465b3de2001ba68b81c": {
          "model_module": "@jupyter-widgets/base",
          "model_name": "LayoutModel",
          "model_module_version": "1.2.0",
          "state": {
            "_view_name": "LayoutView",
            "grid_template_rows": null,
            "right": null,
            "justify_content": null,
            "_view_module": "@jupyter-widgets/base",
            "overflow": null,
            "_model_module_version": "1.2.0",
            "_view_count": null,
            "flex_flow": null,
            "width": null,
            "min_width": null,
            "border": null,
            "align_items": null,
            "bottom": null,
            "_model_module": "@jupyter-widgets/base",
            "top": null,
            "grid_column": null,
            "overflow_y": null,
            "overflow_x": null,
            "grid_auto_flow": null,
            "grid_area": null,
            "grid_template_columns": null,
            "flex": null,
            "_model_name": "LayoutModel",
            "justify_items": null,
            "grid_row": null,
            "max_height": null,
            "align_content": null,
            "visibility": null,
            "align_self": null,
            "height": null,
            "min_height": null,
            "padding": null,
            "grid_auto_rows": null,
            "grid_gap": null,
            "max_width": null,
            "order": null,
            "_view_module_version": "1.2.0",
            "grid_template_areas": null,
            "object_position": null,
            "object_fit": null,
            "grid_auto_columns": null,
            "margin": null,
            "display": null,
            "left": null
          }
        },
        "6d8d9b89f7144cb89ecf758a6b9313f4": {
          "model_module": "@jupyter-widgets/controls",
          "model_name": "HTMLModel",
          "model_module_version": "1.5.0",
          "state": {
            "_view_name": "HTMLView",
            "style": "IPY_MODEL_1a61925d0e7347b39dd5673b73ae3c79",
            "_dom_classes": [],
            "description": "",
            "_model_name": "HTMLModel",
            "placeholder": "​",
            "_view_module": "@jupyter-widgets/controls",
            "_model_module_version": "1.5.0",
            "value": "100%",
            "_view_count": null,
            "_view_module_version": "1.5.0",
            "description_tooltip": null,
            "_model_module": "@jupyter-widgets/controls",
            "layout": "IPY_MODEL_004d8fc5f0304e199fde8c3f7d055aa9"
          }
        },
        "d06a1d62b68549b58516d289ede27dd3": {
          "model_module": "@jupyter-widgets/controls",
          "model_name": "FloatProgressModel",
          "model_module_version": "1.5.0",
          "state": {
            "_view_name": "ProgressView",
            "style": "IPY_MODEL_8b1f6c8d3c53462580329b0c5ae82108",
            "_dom_classes": [],
            "description": "",
            "_model_name": "FloatProgressModel",
            "bar_style": "success",
            "max": 10603,
            "_view_module": "@jupyter-widgets/controls",
            "_model_module_version": "1.5.0",
            "value": 10603,
            "_view_count": null,
            "_view_module_version": "1.5.0",
            "orientation": "horizontal",
            "min": 0,
            "description_tooltip": null,
            "_model_module": "@jupyter-widgets/controls",
            "layout": "IPY_MODEL_dbba88ca6ba440408d6229c9b87fc662"
          }
        },
        "f22c4572ff1049bbbd6bf619449eaa0b": {
          "model_module": "@jupyter-widgets/controls",
          "model_name": "HTMLModel",
          "model_module_version": "1.5.0",
          "state": {
            "_view_name": "HTMLView",
            "style": "IPY_MODEL_af7d5d94648d496d9b66f9ee627ba364",
            "_dom_classes": [],
            "description": "",
            "_model_name": "HTMLModel",
            "placeholder": "​",
            "_view_module": "@jupyter-widgets/controls",
            "_model_module_version": "1.5.0",
            "value": " 10603/10603 [00:51&lt;00:00, 205.98 MB/s]",
            "_view_count": null,
            "_view_module_version": "1.5.0",
            "description_tooltip": null,
            "_model_module": "@jupyter-widgets/controls",
            "layout": "IPY_MODEL_e41890a4c0fd4406821057ea81e63b13"
          }
        },
        "1a61925d0e7347b39dd5673b73ae3c79": {
          "model_module": "@jupyter-widgets/controls",
          "model_name": "DescriptionStyleModel",
          "model_module_version": "1.5.0",
          "state": {
            "_view_name": "StyleView",
            "_model_name": "DescriptionStyleModel",
            "description_width": "",
            "_view_module": "@jupyter-widgets/base",
            "_model_module_version": "1.5.0",
            "_view_count": null,
            "_view_module_version": "1.2.0",
            "_model_module": "@jupyter-widgets/controls"
          }
        },
        "004d8fc5f0304e199fde8c3f7d055aa9": {
          "model_module": "@jupyter-widgets/base",
          "model_name": "LayoutModel",
          "model_module_version": "1.2.0",
          "state": {
            "_view_name": "LayoutView",
            "grid_template_rows": null,
            "right": null,
            "justify_content": null,
            "_view_module": "@jupyter-widgets/base",
            "overflow": null,
            "_model_module_version": "1.2.0",
            "_view_count": null,
            "flex_flow": null,
            "width": null,
            "min_width": null,
            "border": null,
            "align_items": null,
            "bottom": null,
            "_model_module": "@jupyter-widgets/base",
            "top": null,
            "grid_column": null,
            "overflow_y": null,
            "overflow_x": null,
            "grid_auto_flow": null,
            "grid_area": null,
            "grid_template_columns": null,
            "flex": null,
            "_model_name": "LayoutModel",
            "justify_items": null,
            "grid_row": null,
            "max_height": null,
            "align_content": null,
            "visibility": null,
            "align_self": null,
            "height": null,
            "min_height": null,
            "padding": null,
            "grid_auto_rows": null,
            "grid_gap": null,
            "max_width": null,
            "order": null,
            "_view_module_version": "1.2.0",
            "grid_template_areas": null,
            "object_position": null,
            "object_fit": null,
            "grid_auto_columns": null,
            "margin": null,
            "display": null,
            "left": null
          }
        },
        "8b1f6c8d3c53462580329b0c5ae82108": {
          "model_module": "@jupyter-widgets/controls",
          "model_name": "ProgressStyleModel",
          "model_module_version": "1.5.0",
          "state": {
            "_view_name": "StyleView",
            "_model_name": "ProgressStyleModel",
            "description_width": "",
            "_view_module": "@jupyter-widgets/base",
            "_model_module_version": "1.5.0",
            "_view_count": null,
            "_view_module_version": "1.2.0",
            "bar_color": null,
            "_model_module": "@jupyter-widgets/controls"
          }
        },
        "dbba88ca6ba440408d6229c9b87fc662": {
          "model_module": "@jupyter-widgets/base",
          "model_name": "LayoutModel",
          "model_module_version": "1.2.0",
          "state": {
            "_view_name": "LayoutView",
            "grid_template_rows": null,
            "right": null,
            "justify_content": null,
            "_view_module": "@jupyter-widgets/base",
            "overflow": null,
            "_model_module_version": "1.2.0",
            "_view_count": null,
            "flex_flow": null,
            "width": null,
            "min_width": null,
            "border": null,
            "align_items": null,
            "bottom": null,
            "_model_module": "@jupyter-widgets/base",
            "top": null,
            "grid_column": null,
            "overflow_y": null,
            "overflow_x": null,
            "grid_auto_flow": null,
            "grid_area": null,
            "grid_template_columns": null,
            "flex": null,
            "_model_name": "LayoutModel",
            "justify_items": null,
            "grid_row": null,
            "max_height": null,
            "align_content": null,
            "visibility": null,
            "align_self": null,
            "height": null,
            "min_height": null,
            "padding": null,
            "grid_auto_rows": null,
            "grid_gap": null,
            "max_width": null,
            "order": null,
            "_view_module_version": "1.2.0",
            "grid_template_areas": null,
            "object_position": null,
            "object_fit": null,
            "grid_auto_columns": null,
            "margin": null,
            "display": null,
            "left": null
          }
        },
        "af7d5d94648d496d9b66f9ee627ba364": {
          "model_module": "@jupyter-widgets/controls",
          "model_name": "DescriptionStyleModel",
          "model_module_version": "1.5.0",
          "state": {
            "_view_name": "StyleView",
            "_model_name": "DescriptionStyleModel",
            "description_width": "",
            "_view_module": "@jupyter-widgets/base",
            "_model_module_version": "1.5.0",
            "_view_count": null,
            "_view_module_version": "1.2.0",
            "_model_module": "@jupyter-widgets/controls"
          }
        },
        "e41890a4c0fd4406821057ea81e63b13": {
          "model_module": "@jupyter-widgets/base",
          "model_name": "LayoutModel",
          "model_module_version": "1.2.0",
          "state": {
            "_view_name": "LayoutView",
            "grid_template_rows": null,
            "right": null,
            "justify_content": null,
            "_view_module": "@jupyter-widgets/base",
            "overflow": null,
            "_model_module_version": "1.2.0",
            "_view_count": null,
            "flex_flow": null,
            "width": null,
            "min_width": null,
            "border": null,
            "align_items": null,
            "bottom": null,
            "_model_module": "@jupyter-widgets/base",
            "top": null,
            "grid_column": null,
            "overflow_y": null,
            "overflow_x": null,
            "grid_auto_flow": null,
            "grid_area": null,
            "grid_template_columns": null,
            "flex": null,
            "_model_name": "LayoutModel",
            "justify_items": null,
            "grid_row": null,
            "max_height": null,
            "align_content": null,
            "visibility": null,
            "align_self": null,
            "height": null,
            "min_height": null,
            "padding": null,
            "grid_auto_rows": null,
            "grid_gap": null,
            "max_width": null,
            "order": null,
            "_view_module_version": "1.2.0",
            "grid_template_areas": null,
            "object_position": null,
            "object_fit": null,
            "grid_auto_columns": null,
            "margin": null,
            "display": null,
            "left": null
          }
        },
        "a92ccde7c15c4558b66529ffd1e4b5be": {
          "model_module": "@jupyter-widgets/controls",
          "model_name": "HBoxModel",
          "model_module_version": "1.5.0",
          "state": {
            "_view_name": "HBoxView",
            "_dom_classes": [],
            "_model_name": "HBoxModel",
            "_view_module": "@jupyter-widgets/controls",
            "_model_module_version": "1.5.0",
            "_view_count": null,
            "_view_module_version": "1.5.0",
            "box_style": "",
            "layout": "IPY_MODEL_e14dc10539494892a37a4294ba7fbc36",
            "_model_module": "@jupyter-widgets/controls",
            "children": [
              "IPY_MODEL_18ff03a8934f4285abe64f2fe274d1e8",
              "IPY_MODEL_014cd72c20f8438281ba7a3b3ae4265c",
              "IPY_MODEL_47e459724c214558a47a854f4fd90f5f"
            ]
          }
        },
        "e14dc10539494892a37a4294ba7fbc36": {
          "model_module": "@jupyter-widgets/base",
          "model_name": "LayoutModel",
          "model_module_version": "1.2.0",
          "state": {
            "_view_name": "LayoutView",
            "grid_template_rows": null,
            "right": null,
            "justify_content": null,
            "_view_module": "@jupyter-widgets/base",
            "overflow": null,
            "_model_module_version": "1.2.0",
            "_view_count": null,
            "flex_flow": null,
            "width": null,
            "min_width": null,
            "border": null,
            "align_items": null,
            "bottom": null,
            "_model_module": "@jupyter-widgets/base",
            "top": null,
            "grid_column": null,
            "overflow_y": null,
            "overflow_x": null,
            "grid_auto_flow": null,
            "grid_area": null,
            "grid_template_columns": null,
            "flex": null,
            "_model_name": "LayoutModel",
            "justify_items": null,
            "grid_row": null,
            "max_height": null,
            "align_content": null,
            "visibility": null,
            "align_self": null,
            "height": null,
            "min_height": null,
            "padding": null,
            "grid_auto_rows": null,
            "grid_gap": null,
            "max_width": null,
            "order": null,
            "_view_module_version": "1.2.0",
            "grid_template_areas": null,
            "object_position": null,
            "object_fit": null,
            "grid_auto_columns": null,
            "margin": null,
            "display": null,
            "left": null
          }
        },
        "18ff03a8934f4285abe64f2fe274d1e8": {
          "model_module": "@jupyter-widgets/controls",
          "model_name": "HTMLModel",
          "model_module_version": "1.5.0",
          "state": {
            "_view_name": "HTMLView",
            "style": "IPY_MODEL_bb1263f11672436593b48702e0fae809",
            "_dom_classes": [],
            "description": "",
            "_model_name": "HTMLModel",
            "placeholder": "​",
            "_view_module": "@jupyter-widgets/controls",
            "_model_module_version": "1.5.0",
            "value": "100%",
            "_view_count": null,
            "_view_module_version": "1.5.0",
            "description_tooltip": null,
            "_model_module": "@jupyter-widgets/controls",
            "layout": "IPY_MODEL_f87acfdb12c34d24a128452bff60645e"
          }
        },
        "014cd72c20f8438281ba7a3b3ae4265c": {
          "model_module": "@jupyter-widgets/controls",
          "model_name": "FloatProgressModel",
          "model_module_version": "1.5.0",
          "state": {
            "_view_name": "ProgressView",
            "style": "IPY_MODEL_c2096a7e69e24e9580818f4cac664575",
            "_dom_classes": [],
            "description": "",
            "_model_name": "FloatProgressModel",
            "bar_style": "success",
            "max": 1,
            "_view_module": "@jupyter-widgets/controls",
            "_model_module_version": "1.5.0",
            "value": 1,
            "_view_count": null,
            "_view_module_version": "1.5.0",
            "orientation": "horizontal",
            "min": 0,
            "description_tooltip": null,
            "_model_module": "@jupyter-widgets/controls",
            "layout": "IPY_MODEL_eadea456c3d243ed8c6ef216851a68e0"
          }
        },
        "47e459724c214558a47a854f4fd90f5f": {
          "model_module": "@jupyter-widgets/controls",
          "model_name": "HTMLModel",
          "model_module_version": "1.5.0",
          "state": {
            "_view_name": "HTMLView",
            "style": "IPY_MODEL_a520376ab7c74342bc91770e9bcdb962",
            "_dom_classes": [],
            "description": "",
            "_model_name": "HTMLModel",
            "placeholder": "​",
            "_view_module": "@jupyter-widgets/controls",
            "_model_module_version": "1.5.0",
            "value": " 1/1 [00:00&lt;00:00, 23.78 MB/s]",
            "_view_count": null,
            "_view_module_version": "1.5.0",
            "description_tooltip": null,
            "_model_module": "@jupyter-widgets/controls",
            "layout": "IPY_MODEL_0a6d26a2889046fcbc7f410d26904873"
          }
        },
        "bb1263f11672436593b48702e0fae809": {
          "model_module": "@jupyter-widgets/controls",
          "model_name": "DescriptionStyleModel",
          "model_module_version": "1.5.0",
          "state": {
            "_view_name": "StyleView",
            "_model_name": "DescriptionStyleModel",
            "description_width": "",
            "_view_module": "@jupyter-widgets/base",
            "_model_module_version": "1.5.0",
            "_view_count": null,
            "_view_module_version": "1.2.0",
            "_model_module": "@jupyter-widgets/controls"
          }
        },
        "f87acfdb12c34d24a128452bff60645e": {
          "model_module": "@jupyter-widgets/base",
          "model_name": "LayoutModel",
          "model_module_version": "1.2.0",
          "state": {
            "_view_name": "LayoutView",
            "grid_template_rows": null,
            "right": null,
            "justify_content": null,
            "_view_module": "@jupyter-widgets/base",
            "overflow": null,
            "_model_module_version": "1.2.0",
            "_view_count": null,
            "flex_flow": null,
            "width": null,
            "min_width": null,
            "border": null,
            "align_items": null,
            "bottom": null,
            "_model_module": "@jupyter-widgets/base",
            "top": null,
            "grid_column": null,
            "overflow_y": null,
            "overflow_x": null,
            "grid_auto_flow": null,
            "grid_area": null,
            "grid_template_columns": null,
            "flex": null,
            "_model_name": "LayoutModel",
            "justify_items": null,
            "grid_row": null,
            "max_height": null,
            "align_content": null,
            "visibility": null,
            "align_self": null,
            "height": null,
            "min_height": null,
            "padding": null,
            "grid_auto_rows": null,
            "grid_gap": null,
            "max_width": null,
            "order": null,
            "_view_module_version": "1.2.0",
            "grid_template_areas": null,
            "object_position": null,
            "object_fit": null,
            "grid_auto_columns": null,
            "margin": null,
            "display": null,
            "left": null
          }
        },
        "c2096a7e69e24e9580818f4cac664575": {
          "model_module": "@jupyter-widgets/controls",
          "model_name": "ProgressStyleModel",
          "model_module_version": "1.5.0",
          "state": {
            "_view_name": "StyleView",
            "_model_name": "ProgressStyleModel",
            "description_width": "",
            "_view_module": "@jupyter-widgets/base",
            "_model_module_version": "1.5.0",
            "_view_count": null,
            "_view_module_version": "1.2.0",
            "bar_color": null,
            "_model_module": "@jupyter-widgets/controls"
          }
        },
        "eadea456c3d243ed8c6ef216851a68e0": {
          "model_module": "@jupyter-widgets/base",
          "model_name": "LayoutModel",
          "model_module_version": "1.2.0",
          "state": {
            "_view_name": "LayoutView",
            "grid_template_rows": null,
            "right": null,
            "justify_content": null,
            "_view_module": "@jupyter-widgets/base",
            "overflow": null,
            "_model_module_version": "1.2.0",
            "_view_count": null,
            "flex_flow": null,
            "width": null,
            "min_width": null,
            "border": null,
            "align_items": null,
            "bottom": null,
            "_model_module": "@jupyter-widgets/base",
            "top": null,
            "grid_column": null,
            "overflow_y": null,
            "overflow_x": null,
            "grid_auto_flow": null,
            "grid_area": null,
            "grid_template_columns": null,
            "flex": null,
            "_model_name": "LayoutModel",
            "justify_items": null,
            "grid_row": null,
            "max_height": null,
            "align_content": null,
            "visibility": null,
            "align_self": null,
            "height": null,
            "min_height": null,
            "padding": null,
            "grid_auto_rows": null,
            "grid_gap": null,
            "max_width": null,
            "order": null,
            "_view_module_version": "1.2.0",
            "grid_template_areas": null,
            "object_position": null,
            "object_fit": null,
            "grid_auto_columns": null,
            "margin": null,
            "display": null,
            "left": null
          }
        },
        "a520376ab7c74342bc91770e9bcdb962": {
          "model_module": "@jupyter-widgets/controls",
          "model_name": "DescriptionStyleModel",
          "model_module_version": "1.5.0",
          "state": {
            "_view_name": "StyleView",
            "_model_name": "DescriptionStyleModel",
            "description_width": "",
            "_view_module": "@jupyter-widgets/base",
            "_model_module_version": "1.5.0",
            "_view_count": null,
            "_view_module_version": "1.2.0",
            "_model_module": "@jupyter-widgets/controls"
          }
        },
        "0a6d26a2889046fcbc7f410d26904873": {
          "model_module": "@jupyter-widgets/base",
          "model_name": "LayoutModel",
          "model_module_version": "1.2.0",
          "state": {
            "_view_name": "LayoutView",
            "grid_template_rows": null,
            "right": null,
            "justify_content": null,
            "_view_module": "@jupyter-widgets/base",
            "overflow": null,
            "_model_module_version": "1.2.0",
            "_view_count": null,
            "flex_flow": null,
            "width": null,
            "min_width": null,
            "border": null,
            "align_items": null,
            "bottom": null,
            "_model_module": "@jupyter-widgets/base",
            "top": null,
            "grid_column": null,
            "overflow_y": null,
            "overflow_x": null,
            "grid_auto_flow": null,
            "grid_area": null,
            "grid_template_columns": null,
            "flex": null,
            "_model_name": "LayoutModel",
            "justify_items": null,
            "grid_row": null,
            "max_height": null,
            "align_content": null,
            "visibility": null,
            "align_self": null,
            "height": null,
            "min_height": null,
            "padding": null,
            "grid_auto_rows": null,
            "grid_gap": null,
            "max_width": null,
            "order": null,
            "_view_module_version": "1.2.0",
            "grid_template_areas": null,
            "object_position": null,
            "object_fit": null,
            "grid_auto_columns": null,
            "margin": null,
            "display": null,
            "left": null
          }
        },
        "a5971d7fbdb54650a4b026cfea442c05": {
          "model_module": "@jupyter-widgets/controls",
          "model_name": "HBoxModel",
          "model_module_version": "1.5.0",
          "state": {
            "_view_name": "HBoxView",
            "_dom_classes": [],
            "_model_name": "HBoxModel",
            "_view_module": "@jupyter-widgets/controls",
            "_model_module_version": "1.5.0",
            "_view_count": null,
            "_view_module_version": "1.5.0",
            "box_style": "",
            "layout": "IPY_MODEL_9a3c93b1186d42439c9152f48272bb50",
            "_model_module": "@jupyter-widgets/controls",
            "children": [
              "IPY_MODEL_abf09db0ff204d658bff3f85c2496204",
              "IPY_MODEL_44fa40fda4df48478c47925376c33b97",
              "IPY_MODEL_bc4744dd8085429d9e3b2267b1646d04"
            ]
          }
        },
        "9a3c93b1186d42439c9152f48272bb50": {
          "model_module": "@jupyter-widgets/base",
          "model_name": "LayoutModel",
          "model_module_version": "1.2.0",
          "state": {
            "_view_name": "LayoutView",
            "grid_template_rows": null,
            "right": null,
            "justify_content": null,
            "_view_module": "@jupyter-widgets/base",
            "overflow": null,
            "_model_module_version": "1.2.0",
            "_view_count": null,
            "flex_flow": null,
            "width": null,
            "min_width": null,
            "border": null,
            "align_items": null,
            "bottom": null,
            "_model_module": "@jupyter-widgets/base",
            "top": null,
            "grid_column": null,
            "overflow_y": null,
            "overflow_x": null,
            "grid_auto_flow": null,
            "grid_area": null,
            "grid_template_columns": null,
            "flex": null,
            "_model_name": "LayoutModel",
            "justify_items": null,
            "grid_row": null,
            "max_height": null,
            "align_content": null,
            "visibility": null,
            "align_self": null,
            "height": null,
            "min_height": null,
            "padding": null,
            "grid_auto_rows": null,
            "grid_gap": null,
            "max_width": null,
            "order": null,
            "_view_module_version": "1.2.0",
            "grid_template_areas": null,
            "object_position": null,
            "object_fit": null,
            "grid_auto_columns": null,
            "margin": null,
            "display": null,
            "left": null
          }
        },
        "abf09db0ff204d658bff3f85c2496204": {
          "model_module": "@jupyter-widgets/controls",
          "model_name": "HTMLModel",
          "model_module_version": "1.5.0",
          "state": {
            "_view_name": "HTMLView",
            "style": "IPY_MODEL_ff450c6f114b409d858214bd35759365",
            "_dom_classes": [],
            "description": "",
            "_model_name": "HTMLModel",
            "placeholder": "​",
            "_view_module": "@jupyter-widgets/controls",
            "_model_module_version": "1.5.0",
            "value": "100%",
            "_view_count": null,
            "_view_module_version": "1.5.0",
            "description_tooltip": null,
            "_model_module": "@jupyter-widgets/controls",
            "layout": "IPY_MODEL_b761764e9a274e6cb816f3cb911b0593"
          }
        },
        "44fa40fda4df48478c47925376c33b97": {
          "model_module": "@jupyter-widgets/controls",
          "model_name": "FloatProgressModel",
          "model_module_version": "1.5.0",
          "state": {
            "_view_name": "ProgressView",
            "style": "IPY_MODEL_88dff1769f0348ba801ca52f884b091e",
            "_dom_classes": [],
            "description": "",
            "_model_name": "FloatProgressModel",
            "bar_style": "success",
            "max": 1,
            "_view_module": "@jupyter-widgets/controls",
            "_model_module_version": "1.5.0",
            "value": 1,
            "_view_count": null,
            "_view_module_version": "1.5.0",
            "orientation": "horizontal",
            "min": 0,
            "description_tooltip": null,
            "_model_module": "@jupyter-widgets/controls",
            "layout": "IPY_MODEL_f769e7191e42452684e645cc0963895d"
          }
        },
        "bc4744dd8085429d9e3b2267b1646d04": {
          "model_module": "@jupyter-widgets/controls",
          "model_name": "HTMLModel",
          "model_module_version": "1.5.0",
          "state": {
            "_view_name": "HTMLView",
            "style": "IPY_MODEL_ed057a7fe00f4c299d977a1e94286f98",
            "_dom_classes": [],
            "description": "",
            "_model_name": "HTMLModel",
            "placeholder": "​",
            "_view_module": "@jupyter-widgets/controls",
            "_model_module_version": "1.5.0",
            "value": " 1/1 [00:00&lt;00:00, 23.47 MB/s]",
            "_view_count": null,
            "_view_module_version": "1.5.0",
            "description_tooltip": null,
            "_model_module": "@jupyter-widgets/controls",
            "layout": "IPY_MODEL_745d00d0679b4a15873380c01137c59e"
          }
        },
        "ff450c6f114b409d858214bd35759365": {
          "model_module": "@jupyter-widgets/controls",
          "model_name": "DescriptionStyleModel",
          "model_module_version": "1.5.0",
          "state": {
            "_view_name": "StyleView",
            "_model_name": "DescriptionStyleModel",
            "description_width": "",
            "_view_module": "@jupyter-widgets/base",
            "_model_module_version": "1.5.0",
            "_view_count": null,
            "_view_module_version": "1.2.0",
            "_model_module": "@jupyter-widgets/controls"
          }
        },
        "b761764e9a274e6cb816f3cb911b0593": {
          "model_module": "@jupyter-widgets/base",
          "model_name": "LayoutModel",
          "model_module_version": "1.2.0",
          "state": {
            "_view_name": "LayoutView",
            "grid_template_rows": null,
            "right": null,
            "justify_content": null,
            "_view_module": "@jupyter-widgets/base",
            "overflow": null,
            "_model_module_version": "1.2.0",
            "_view_count": null,
            "flex_flow": null,
            "width": null,
            "min_width": null,
            "border": null,
            "align_items": null,
            "bottom": null,
            "_model_module": "@jupyter-widgets/base",
            "top": null,
            "grid_column": null,
            "overflow_y": null,
            "overflow_x": null,
            "grid_auto_flow": null,
            "grid_area": null,
            "grid_template_columns": null,
            "flex": null,
            "_model_name": "LayoutModel",
            "justify_items": null,
            "grid_row": null,
            "max_height": null,
            "align_content": null,
            "visibility": null,
            "align_self": null,
            "height": null,
            "min_height": null,
            "padding": null,
            "grid_auto_rows": null,
            "grid_gap": null,
            "max_width": null,
            "order": null,
            "_view_module_version": "1.2.0",
            "grid_template_areas": null,
            "object_position": null,
            "object_fit": null,
            "grid_auto_columns": null,
            "margin": null,
            "display": null,
            "left": null
          }
        },
        "88dff1769f0348ba801ca52f884b091e": {
          "model_module": "@jupyter-widgets/controls",
          "model_name": "ProgressStyleModel",
          "model_module_version": "1.5.0",
          "state": {
            "_view_name": "StyleView",
            "_model_name": "ProgressStyleModel",
            "description_width": "",
            "_view_module": "@jupyter-widgets/base",
            "_model_module_version": "1.5.0",
            "_view_count": null,
            "_view_module_version": "1.2.0",
            "bar_color": null,
            "_model_module": "@jupyter-widgets/controls"
          }
        },
        "f769e7191e42452684e645cc0963895d": {
          "model_module": "@jupyter-widgets/base",
          "model_name": "LayoutModel",
          "model_module_version": "1.2.0",
          "state": {
            "_view_name": "LayoutView",
            "grid_template_rows": null,
            "right": null,
            "justify_content": null,
            "_view_module": "@jupyter-widgets/base",
            "overflow": null,
            "_model_module_version": "1.2.0",
            "_view_count": null,
            "flex_flow": null,
            "width": null,
            "min_width": null,
            "border": null,
            "align_items": null,
            "bottom": null,
            "_model_module": "@jupyter-widgets/base",
            "top": null,
            "grid_column": null,
            "overflow_y": null,
            "overflow_x": null,
            "grid_auto_flow": null,
            "grid_area": null,
            "grid_template_columns": null,
            "flex": null,
            "_model_name": "LayoutModel",
            "justify_items": null,
            "grid_row": null,
            "max_height": null,
            "align_content": null,
            "visibility": null,
            "align_self": null,
            "height": null,
            "min_height": null,
            "padding": null,
            "grid_auto_rows": null,
            "grid_gap": null,
            "max_width": null,
            "order": null,
            "_view_module_version": "1.2.0",
            "grid_template_areas": null,
            "object_position": null,
            "object_fit": null,
            "grid_auto_columns": null,
            "margin": null,
            "display": null,
            "left": null
          }
        },
        "ed057a7fe00f4c299d977a1e94286f98": {
          "model_module": "@jupyter-widgets/controls",
          "model_name": "DescriptionStyleModel",
          "model_module_version": "1.5.0",
          "state": {
            "_view_name": "StyleView",
            "_model_name": "DescriptionStyleModel",
            "description_width": "",
            "_view_module": "@jupyter-widgets/base",
            "_model_module_version": "1.5.0",
            "_view_count": null,
            "_view_module_version": "1.2.0",
            "_model_module": "@jupyter-widgets/controls"
          }
        },
        "745d00d0679b4a15873380c01137c59e": {
          "model_module": "@jupyter-widgets/base",
          "model_name": "LayoutModel",
          "model_module_version": "1.2.0",
          "state": {
            "_view_name": "LayoutView",
            "grid_template_rows": null,
            "right": null,
            "justify_content": null,
            "_view_module": "@jupyter-widgets/base",
            "overflow": null,
            "_model_module_version": "1.2.0",
            "_view_count": null,
            "flex_flow": null,
            "width": null,
            "min_width": null,
            "border": null,
            "align_items": null,
            "bottom": null,
            "_model_module": "@jupyter-widgets/base",
            "top": null,
            "grid_column": null,
            "overflow_y": null,
            "overflow_x": null,
            "grid_auto_flow": null,
            "grid_area": null,
            "grid_template_columns": null,
            "flex": null,
            "_model_name": "LayoutModel",
            "justify_items": null,
            "grid_row": null,
            "max_height": null,
            "align_content": null,
            "visibility": null,
            "align_self": null,
            "height": null,
            "min_height": null,
            "padding": null,
            "grid_auto_rows": null,
            "grid_gap": null,
            "max_width": null,
            "order": null,
            "_view_module_version": "1.2.0",
            "grid_template_areas": null,
            "object_position": null,
            "object_fit": null,
            "grid_auto_columns": null,
            "margin": null,
            "display": null,
            "left": null
          }
        }
      }
    }
  },
  "cells": [
    {
      "cell_type": "markdown",
      "metadata": {
        "id": "view-in-github",
        "colab_type": "text"
      },
      "source": [
        "<a href=\"https://colab.research.google.com/github/vilsaira/example/blob/main/dMRI_signal_GP_prediction.ipynb\" target=\"_parent\"><img src=\"https://colab.research.google.com/assets/colab-badge.svg\" alt=\"Open In Colab\"/></a>"
      ]
    },
    {
      "cell_type": "markdown",
      "metadata": {
        "id": "CsahaUZSO6iF"
      },
      "source": [
        "Install and/or upgrade packages"
      ]
    },
    {
      "cell_type": "code",
      "metadata": {
        "id": "U2LrllqMO9JM",
        "colab": {
          "base_uri": "https://localhost:8080/"
        },
        "outputId": "8c3681e0-e937-4f50-e1c6-69d21e9e1590"
      },
      "source": [
        "!pip install dipy #Install dipy to colab environment\n",
        "!pip install scipy\n",
        "!pip install numpy\n",
        "!pip install matplotlib\n",
        "!pip install pyDOE\n",
        "!pip install scipy --upgrade # Upgrade packages if needed, remember to restart kernel afterwards!"
      ],
      "execution_count": null,
      "outputs": [
        {
          "output_type": "stream",
          "name": "stdout",
          "text": [
            "Collecting dipy\n",
            "  Downloading dipy-1.4.1-cp37-cp37m-manylinux_2_12_x86_64.manylinux2010_x86_64.whl (7.7 MB)\n",
            "\u001b[K     |████████████████████████████████| 7.7 MB 5.0 MB/s \n",
            "\u001b[?25hRequirement already satisfied: h5py>=2.5.0 in /usr/local/lib/python3.7/dist-packages (from dipy) (3.1.0)\n",
            "Requirement already satisfied: tqdm>=4.30.0 in /usr/local/lib/python3.7/dist-packages (from dipy) (4.62.3)\n",
            "Requirement already satisfied: nibabel>=3.0.0 in /usr/local/lib/python3.7/dist-packages (from dipy) (3.0.2)\n",
            "Requirement already satisfied: scipy>=1.0 in /usr/local/lib/python3.7/dist-packages (from dipy) (1.4.1)\n",
            "Requirement already satisfied: numpy>=1.14.5 in /usr/local/lib/python3.7/dist-packages (from h5py>=2.5.0->dipy) (1.19.5)\n",
            "Requirement already satisfied: cached-property in /usr/local/lib/python3.7/dist-packages (from h5py>=2.5.0->dipy) (1.5.2)\n",
            "Installing collected packages: dipy\n",
            "Successfully installed dipy-1.4.1\n",
            "Requirement already satisfied: scipy in /usr/local/lib/python3.7/dist-packages (1.4.1)\n",
            "Requirement already satisfied: numpy>=1.13.3 in /usr/local/lib/python3.7/dist-packages (from scipy) (1.19.5)\n",
            "Requirement already satisfied: numpy in /usr/local/lib/python3.7/dist-packages (1.19.5)\n",
            "Requirement already satisfied: matplotlib in /usr/local/lib/python3.7/dist-packages (3.2.2)\n",
            "Requirement already satisfied: cycler>=0.10 in /usr/local/lib/python3.7/dist-packages (from matplotlib) (0.10.0)\n",
            "Requirement already satisfied: pyparsing!=2.0.4,!=2.1.2,!=2.1.6,>=2.0.1 in /usr/local/lib/python3.7/dist-packages (from matplotlib) (2.4.7)\n",
            "Requirement already satisfied: numpy>=1.11 in /usr/local/lib/python3.7/dist-packages (from matplotlib) (1.19.5)\n",
            "Requirement already satisfied: kiwisolver>=1.0.1 in /usr/local/lib/python3.7/dist-packages (from matplotlib) (1.3.2)\n",
            "Requirement already satisfied: python-dateutil>=2.1 in /usr/local/lib/python3.7/dist-packages (from matplotlib) (2.8.2)\n",
            "Requirement already satisfied: six in /usr/local/lib/python3.7/dist-packages (from cycler>=0.10->matplotlib) (1.15.0)\n",
            "Collecting pyDOE\n",
            "  Downloading pyDOE-0.3.8.zip (22 kB)\n",
            "Requirement already satisfied: numpy in /usr/local/lib/python3.7/dist-packages (from pyDOE) (1.19.5)\n",
            "Requirement already satisfied: scipy in /usr/local/lib/python3.7/dist-packages (from pyDOE) (1.4.1)\n",
            "Building wheels for collected packages: pyDOE\n",
            "  Building wheel for pyDOE (setup.py) ... \u001b[?25l\u001b[?25hdone\n",
            "  Created wheel for pyDOE: filename=pyDOE-0.3.8-py3-none-any.whl size=18184 sha256=32ec101bafc017d73a448c6c9cb3d107bb8c829e64faf3f995d426a3fd449d99\n",
            "  Stored in directory: /root/.cache/pip/wheels/83/ce/8a/87b25c685bfeca1872d13b8dc101e087a9c6e3fb5ebb47022a\n",
            "Successfully built pyDOE\n",
            "Installing collected packages: pyDOE\n",
            "Successfully installed pyDOE-0.3.8\n",
            "Requirement already satisfied: scipy in /usr/local/lib/python3.7/dist-packages (1.4.1)\n",
            "Collecting scipy\n",
            "  Downloading scipy-1.7.1-cp37-cp37m-manylinux_2_5_x86_64.manylinux1_x86_64.whl (28.5 MB)\n",
            "\u001b[K     |████████████████████████████████| 28.5 MB 49 kB/s \n",
            "\u001b[?25hRequirement already satisfied: numpy<1.23.0,>=1.16.5 in /usr/local/lib/python3.7/dist-packages (from scipy) (1.19.5)\n",
            "Installing collected packages: scipy\n",
            "  Attempting uninstall: scipy\n",
            "    Found existing installation: scipy 1.4.1\n",
            "    Uninstalling scipy-1.4.1:\n",
            "      Successfully uninstalled scipy-1.4.1\n",
            "\u001b[31mERROR: pip's dependency resolver does not currently take into account all the packages that are installed. This behaviour is the source of the following dependency conflicts.\n",
            "albumentations 0.1.12 requires imgaug<0.2.7,>=0.2.5, but you have imgaug 0.2.9 which is incompatible.\u001b[0m\n",
            "Successfully installed scipy-1.7.1\n"
          ]
        }
      ]
    },
    {
      "cell_type": "markdown",
      "metadata": {
        "id": "9DTGw6frC6yF"
      },
      "source": [
        "Get test data using dipy. Download takes about a minute. This example uses just b=1000 shell."
      ]
    },
    {
      "cell_type": "code",
      "metadata": {
        "colab": {
          "base_uri": "https://localhost:8080/",
          "height": 145,
          "referenced_widgets": [
            "2e77dc2a4c4448639ff07d55ef73980d",
            "17fd7594d25f4376b4014eba26a67c3e",
            "b271e214d2a2419e876d25c718d9e556",
            "5a7aea5c45ac495a8fec70a3304df36b",
            "6c77dd9bd5fa4382b46de9133cf607a4",
            "4998443bea5446eeaa8c8a73a4b750be",
            "0693fa8b52f2481d8f6c1ff8c17dc5d8",
            "5bc66012904b404eafa50791728655bb",
            "a456b94589304c5f993554d504f2758a",
            "47bc183609f74533948a8bbfcc1f8fc7",
            "001ef3d1f2224ff993d31ac78d0937f5",
            "f766e40b4497470d905fc9823fd367a1",
            "33e96d5312ec4465b3de2001ba68b81c",
            "6d8d9b89f7144cb89ecf758a6b9313f4",
            "d06a1d62b68549b58516d289ede27dd3",
            "f22c4572ff1049bbbd6bf619449eaa0b",
            "1a61925d0e7347b39dd5673b73ae3c79",
            "004d8fc5f0304e199fde8c3f7d055aa9",
            "8b1f6c8d3c53462580329b0c5ae82108",
            "dbba88ca6ba440408d6229c9b87fc662",
            "af7d5d94648d496d9b66f9ee627ba364",
            "e41890a4c0fd4406821057ea81e63b13",
            "a92ccde7c15c4558b66529ffd1e4b5be",
            "e14dc10539494892a37a4294ba7fbc36",
            "18ff03a8934f4285abe64f2fe274d1e8",
            "014cd72c20f8438281ba7a3b3ae4265c",
            "47e459724c214558a47a854f4fd90f5f",
            "bb1263f11672436593b48702e0fae809",
            "f87acfdb12c34d24a128452bff60645e",
            "c2096a7e69e24e9580818f4cac664575",
            "eadea456c3d243ed8c6ef216851a68e0",
            "a520376ab7c74342bc91770e9bcdb962",
            "0a6d26a2889046fcbc7f410d26904873",
            "a5971d7fbdb54650a4b026cfea442c05",
            "9a3c93b1186d42439c9152f48272bb50",
            "abf09db0ff204d658bff3f85c2496204",
            "44fa40fda4df48478c47925376c33b97",
            "bc4744dd8085429d9e3b2267b1646d04",
            "ff450c6f114b409d858214bd35759365",
            "b761764e9a274e6cb816f3cb911b0593",
            "88dff1769f0348ba801ca52f884b091e",
            "f769e7191e42452684e645cc0963895d",
            "ed057a7fe00f4c299d977a1e94286f98",
            "745d00d0679b4a15873380c01137c59e"
          ]
        },
        "id": "MDJhWcaxCZts",
        "outputId": "e843d207-2ed2-4aae-a8c0-9c9f0d97e524"
      },
      "source": [
        "import numpy as np\n",
        "import matplotlib.pyplot as plt\n",
        "from dipy.core.gradients import gradient_table\n",
        "from dipy.io.gradients import read_bvals_bvecs\n",
        "from dipy.io.image import load_nifti\n",
        "from dipy.data import get_sphere, get_fnames\n",
        "\n",
        "# Example from https://www.dipy.org/documentation/1.3.0./examples_built/reconst_mcsd/\n",
        "sphere = get_sphere('symmetric724')\n",
        "\n",
        "fraw, fbval, fbvec, t1_fname = get_fnames('cfin_multib')\n",
        "\n",
        "data, affine = load_nifti(fraw)\n",
        "bvals, bvecs = read_bvals_bvecs(fbval, fbvec)\n",
        "gtab = gradient_table(bvals, bvecs)\n",
        "\n",
        "bvals = gtab.bvals\n",
        "bvecs = gtab.bvecs\n",
        "\n",
        "#sel_b = np.logical_or(np.logical_or(bvals == 0, bvals == 1000), bvals == 2000)\n",
        "sel_b = np.logical_or(bvals == 0, bvals == 1000)\n",
        "data = data[..., sel_b]\n",
        "\n",
        "gtab = gradient_table(bvals[sel_b], bvecs[sel_b])\n",
        "bvals = gtab.bvals\n",
        "bvecs = gtab.gradients"
      ],
      "execution_count": null,
      "outputs": [
        {
          "output_type": "display_data",
          "data": {
            "application/vnd.jupyter.widget-view+json": {
              "model_id": "2e77dc2a4c4448639ff07d55ef73980d",
              "version_minor": 0,
              "version_major": 2
            },
            "text/plain": [
              "  0%|          | 0/1409 [00:00<?, ? MB/s]"
            ]
          },
          "metadata": {}
        },
        {
          "output_type": "display_data",
          "data": {
            "application/vnd.jupyter.widget-view+json": {
              "model_id": "f766e40b4497470d905fc9823fd367a1",
              "version_minor": 0,
              "version_major": 2
            },
            "text/plain": [
              "  0%|          | 0/10603 [00:00<?, ? MB/s]"
            ]
          },
          "metadata": {}
        },
        {
          "output_type": "display_data",
          "data": {
            "application/vnd.jupyter.widget-view+json": {
              "model_id": "a92ccde7c15c4558b66529ffd1e4b5be",
              "version_minor": 0,
              "version_major": 2
            },
            "text/plain": [
              "  0%|          | 0/1 [00:00<?, ? MB/s]"
            ]
          },
          "metadata": {}
        },
        {
          "output_type": "display_data",
          "data": {
            "application/vnd.jupyter.widget-view+json": {
              "model_id": "a5971d7fbdb54650a4b026cfea442c05",
              "version_minor": 0,
              "version_major": 2
            },
            "text/plain": [
              "  0%|          | 0/1 [00:00<?, ? MB/s]"
            ]
          },
          "metadata": {}
        }
      ]
    },
    {
      "cell_type": "markdown",
      "metadata": {
        "id": "NuGUOPQPC56_"
      },
      "source": [
        "Gaussian Process needs the angular distances between b-vectors."
      ]
    },
    {
      "cell_type": "code",
      "metadata": {
        "id": "KR52RUouD5OO"
      },
      "source": [
        "from scipy.optimize import minimize\n",
        "from pyDOE import lhs\n",
        "from scipy.linalg import cholesky, cho_solve, solve\n",
        "\n",
        "\n",
        "def _unit_vector(vector):\n",
        "    return vector / np.linalg.norm(vector)\n",
        "\n",
        "def _angle_between(v1, v2):\n",
        "    v1_u = _unit_vector(v1)\n",
        "    v2_u = _unit_vector(v2)\n",
        "    return np.arccos(np.clip(np.dot(v1_u, v2_u), -1.0, 1.0))\n",
        "\n",
        "def angles(bvecs1, bvecs2):\n",
        "    n = bvecs1.shape[0]\n",
        "    m = bvecs2.shape[0]\n",
        "    C = np.zeros((n,m))\n",
        "    for i in range(n):\n",
        "        for j in range(m):\n",
        "            # Select smallest of two arccos|<g1,g2>| and arccos|<g1,-g2>|\n",
        "            C[i,j] = np.min((\n",
        "                _angle_between(bvecs1[i,:], bvecs2[j,:]), # g1, g2\n",
        "                 _angle_between(bvecs1[i,:], -bvecs2[j,:]))) #g1, -g2\n",
        "\n",
        "    return C"
      ],
      "execution_count": null,
      "outputs": []
    },
    {
      "cell_type": "markdown",
      "metadata": {
        "id": "I-2tnCGKELhM"
      },
      "source": [
        "Covariance matrix or kernel based on a spherical model (Eq. 10) for one shell case"
      ]
    },
    {
      "cell_type": "code",
      "metadata": {
        "id": "jpkLrPZXEQf9"
      },
      "source": [
        "def kernel_ss(lmbda, a, theta):\n",
        "    # Single shell kernel\n",
        "    # Exponential model (Eq. 9)\n",
        "    # K = lmbda * np.exp(-theta/a)\n",
        "    # Spherical model (Eq. 10)\n",
        "    K = lmbda**2 * (theta <= a) * (1 - 1.5*theta/a + 0.5*(theta/a)**3)\n",
        "    return K"
      ],
      "execution_count": null,
      "outputs": []
    },
    {
      "cell_type": "markdown",
      "metadata": {
        "id": "Of4PX34ZES7l"
      },
      "source": [
        "Legacy, use Leave-One-Out Cross Validation approach instead\n",
        "\n",
        "Log marginal likelihood function which returns the negative value for scipy minimization."
      ]
    },
    {
      "cell_type": "code",
      "metadata": {
        "id": "BVd1ba3kEhlV"
      },
      "source": [
        "def likelihood(params, theta11, y):\n",
        "\n",
        "    lmbda = np.log(params[0])\n",
        "    a = params[1]\n",
        "    sigmasq = np.log(params[2])\n",
        "    n = y.shape[0]\n",
        "\n",
        "    Ky = kernel_ss(lmbda, a, theta11) + (sigmasq**2) * np.eye(n) + 1e-10 * np.eye(n)\n",
        "    # The last term of Ky (+1e10..) helps to avoid numerical problems in cholesky\n",
        "    L = cholesky(Ky, lower=True)\n",
        "    #Ky_inv = np.linalg.inv(Ky)\n",
        "\n",
        "    # |Ky| = np.det(Ky)\n",
        "    # If A = L@L.T then det(A) = prod(diag(L**2)), using log, prod -> sum and square term eats 0.5 factor in front of eq 12 second term\n",
        "    LnDetKy = np.sum( np.log( np.abs( np.diagonal(L))))\n",
        "\n",
        "    # over all voxels\n",
        "    # vector version\n",
        "    alphas = cho_solve((L.T, True), cho_solve((L, True), y)) # == Ky^-1 @ y)\n",
        "    likes = -0.5 * y.T @ alphas - LnDetKy    \n",
        "    # trace is the sum over all voxels\n",
        "    like = np.trace(likes)\n",
        "    # loop version - much slower\n",
        "    # like = 0\n",
        "    #for i in range(y.shape[1]):\n",
        "    #    alpha = solve(L.T, solve(L, y[:,i]))\n",
        "    #    like += (-0.5 * y[:,i].T @ alpha - LnDetKy).flatten()\n",
        "    #    #y1 = np.atleast_2d(y[:,i]).T\n",
        "    #    #alpha = cho_solve((L.T,True), cho_solve((L, True), y1))\n",
        "    #    #like += (-0.5 * y1.T @ Ky_inv @ y1 - 0.5*np.log(np.linalg.det(Ky))).flatten()\n",
        "\n",
        "    # Return negative value to maximize likelihood with scipy minimization\n",
        "    return -like"
      ],
      "execution_count": null,
      "outputs": []
    },
    {
      "cell_type": "markdown",
      "metadata": {
        "id": "kAV784MOvARn"
      },
      "source": [
        "Leave-One-Out Cross Validation (LOOCV) approach"
      ]
    },
    {
      "cell_type": "code",
      "metadata": {
        "id": "XTPwKbfMvDh-"
      },
      "source": [
        "def loo(params, theta11, theta12, y):\n",
        "    lmbda = params[0]\n",
        "    a = params[1]\n",
        "    sigmasq = params[2]\n",
        "\n",
        "    n = y.shape[0]\n",
        "    m = y.shape[1]\n",
        "    one = np.ones((n-1,1)) \n",
        "\n",
        "    all_inds = np.arange(0,n)\n",
        "    diffs = 0\n",
        "    for i in range(n):        \n",
        "        test_inds = i\n",
        "        train_inds = np.delete(all_inds, i)\n",
        "        \n",
        "        train_theta = np.delete(theta11, i, 0) # delete row\n",
        "        train_theta = np.delete(train_theta, i, 1) # delete column\n",
        "        y_train = np.delete(y, i, 0)\n",
        "        test_theta = np.delete(theta12,i,0)\n",
        "        y_test = y[i,:]\n",
        "\n",
        "        # Kernel of noisy observations\n",
        "        K = kernel_ss(lmbda, a, train_theta) + (sigmasq**2) * np.eye(n-1) + 1e-10 * np.eye(n-1)\n",
        "        K_s = kernel_ss(lmbda, a, test_theta)\n",
        "        K_inv = np.linalg.inv(K)\n",
        "\n",
        "        mus = K_s.T.dot(K_inv).dot(y_train)\n",
        "        diffs += np.sum((mus[i,:] - y_test)**2)\n",
        "    return diffs / n"
      ],
      "execution_count": null,
      "outputs": []
    },
    {
      "cell_type": "markdown",
      "metadata": {
        "id": "X3tG6IbHElOV"
      },
      "source": [
        "GP prediction function"
      ]
    },
    {
      "cell_type": "code",
      "metadata": {
        "id": "a5zOMZyGEpVt"
      },
      "source": [
        "def posterior(params, theta11, theta12, theta22, y):\n",
        "\n",
        "    lmbda = params[0]\n",
        "    a = params[1]\n",
        "    sigmasq = params[2]\n",
        "    n = y.shape[0]       \n",
        "\n",
        "    Ky = kernel_ss(lmbda, a, theta11) + (sigmasq**2) * np.eye(n) + 1e-10 * np.eye(n)\n",
        "    # Kernel of observations vs to-predict\n",
        "    k12 = kernel_ss(lmbda, a, theta12)\n",
        "    solved = solve(Ky, k12, assume_a='pos').T\n",
        "    # posterior mean\n",
        "    pmu = solved @ y\n",
        "    # posterior covariance\n",
        "    k22 = kernel_ss(lmbda, a, theta22)\n",
        "    cov = k22 - (solved @ k12)\n",
        "    std = np.sqrt(np.diag(cov))\n",
        "\n",
        "    return pmu, std"
      ],
      "execution_count": null,
      "outputs": []
    },
    {
      "cell_type": "markdown",
      "metadata": {
        "id": "soKC605-Eqyt"
      },
      "source": [
        "Get **theta** matrix [#ndwi, #ndwi] that contain angular distances and matrix **y** [#ndwi, #nvox] that contain DWI signals "
      ]
    },
    {
      "cell_type": "code",
      "metadata": {
        "id": "_UoFRTCoE1_V"
      },
      "source": [
        "N_vox = 5000 # number of voxels used in GP\n",
        "np.random.seed(seed=42)\n",
        "\n",
        "bvecs1 = bvecs[~gtab.b0s_mask,:]\n",
        "bvecs2 = bvecs[~gtab.b0s_mask,:]\n",
        "# thetaxx matrices contain the angular distances between b-vecs [0, pi/2]\n",
        "# For observation kernel\n",
        "theta11 = angles(bvecs1, bvecs1)\n",
        "# for observations to-predic kernel (i.e. if wants to predict new or missing vectors)\n",
        "theta12 = angles(bvecs1, bvecs2)\n",
        "# for posterior covariance\n",
        "theta22 = angles(bvecs2, bvecs2)\n",
        "\n",
        "# apply rough brain masking\n",
        "brain_mask = np.sum(data[:,:,:,1:], axis=3) > 3000\n",
        "data1 = data * brain_mask[:,:,:,None]\n",
        "data1 = data1.reshape(np.prod(brain_mask.shape), data1.shape[-1]).astype(np.float32)\n",
        "idx = np.argwhere(data1[:,0] > 0)\n",
        "\n",
        "# select N_vox random voxels within the brain mask\n",
        "selection = np.random.choice(idx.flatten(), N_vox)\n",
        "\n",
        "y = data1[selection,np.argwhere(~gtab.b0s_mask)]\n",
        "y = np.log(y)\n",
        "y = y - np.mean(y)"
      ],
      "execution_count": null,
      "outputs": []
    },
    {
      "cell_type": "markdown",
      "metadata": {
        "id": "hHxx2LzQF1zN"
      },
      "source": [
        "Set number of iterations, bounds for the optimization, and get random initial parameters."
      ]
    },
    {
      "cell_type": "code",
      "metadata": {
        "id": "e7LnX7hyF7FW"
      },
      "source": [
        "n_repeats = 50\n",
        "bounds = np.array([[0, 100], [1e-10, np.pi/2], [0, 50]])\n",
        "lhd = lhs(3, n_repeats)\n",
        "initial_params = (bounds[:,1] - bounds[:,0]) * lhd + bounds[:,0]"
      ],
      "execution_count": null,
      "outputs": []
    },
    {
      "cell_type": "markdown",
      "metadata": {
        "id": "Druruw9tGVj1"
      },
      "source": [
        "Run minimization and find the best solution over all N voxels (default = 1000)"
      ]
    },
    {
      "cell_type": "code",
      "metadata": {
        "colab": {
          "base_uri": "https://localhost:8080/"
        },
        "id": "4xqF1WOzGayF",
        "outputId": "a6f7739c-58db-4b6f-d940-ed855317dd84"
      },
      "source": [
        "# This takes few seconds so results are also hardcoded to the next step\n",
        "opt_para = np.zeros((n_repeats,3))\n",
        "opt_fun = np.zeros((n_repeats,1))\n",
        "for i in range(n_repeats):    \n",
        "    res = minimize(loo, initial_params[i,:], args=(theta11, theta12, y),method='L-BFGS-B', bounds=bounds, options={'xtol': 1e-3, 'disp': True}) # Nelder-Mead L-BFGS-B\n",
        "    opt_para[i,:] = res.x\n",
        "    opt_fun[i,:] = res.fun\n",
        "    print(f\"{i} : params = [{res.x}] : likelihood = {res.fun}\")\n",
        "\n",
        "params = opt_para[np.argmin(opt_fun)]\n",
        "print(params)"
      ],
      "execution_count": null,
      "outputs": [
        {
          "output_type": "stream",
          "name": "stderr",
          "text": [
            "/usr/local/lib/python3.7/dist-packages/ipykernel_launcher.py:5: OptimizeWarning: Unknown solver options: xtol\n",
            "  \"\"\"\n"
          ]
        },
        {
          "output_type": "stream",
          "name": "stdout",
          "text": [
            "0 : params = [[41.98796969  1.57079633 17.03635237]] : likelihood = 49.18614732097757\n",
            "1 : params = [[9.32193949e+01 2.35612475e-02 2.87643534e+01]] : likelihood = 287.2722516779571\n",
            "2 : params = [[65.37848592  1.57079633 26.52693808]] : likelihood = 49.18614732097784\n",
            "3 : params = [[32.89533813  1.57079633 13.34709081]] : likelihood = 49.18614732097779\n",
            "4 : params = [[25.97898912  1.57079633 10.54079848]] : likelihood = 49.186147320990756\n",
            "5 : params = [[64.36340177  1.57079633 26.11514515]] : likelihood = 49.186147321035904\n",
            "6 : params = [[60.84977223  1.57079633 24.68931973]] : likelihood = 49.186147321069534\n",
            "7 : params = [[94.84631844  1.57079633 38.48327699]] : likelihood = 49.18614732098081\n",
            "8 : params = [[40.19167     1.57079633 16.30753365]] : likelihood = 49.18614732097737\n",
            "9 : params = [[49.8365441   1.57079633 20.22096039]] : likelihood = 49.18614732107384\n",
            "10 : params = [[74.51569281  1.57079633 30.23380874]] : likelihood = 49.18614732230542\n",
            "11 : params = [[82.09279534  1.57079633 33.3085627 ]] : likelihood = 49.186147321012555\n",
            "12 : params = [[48.18002439  1.57079633 19.54887324]] : likelihood = 49.18614732118427\n",
            "13 : params = [[72.56126648  1.57079633 29.44157404]] : likelihood = 49.186147321466876\n",
            "14 : params = [[54.5321985   1.57079633 22.12603284]] : likelihood = 49.186147321034646\n",
            "15 : params = [[73.24848479  1.57079633 29.72014925]] : likelihood = 49.18614732097915\n",
            "16 : params = [[7.24232718e+01 5.01761139e-02 2.63239132e+00]] : likelihood = 287.2722516779571\n",
            "17 : params = [[18.54389208  0.16383131  6.18792038]] : likelihood = 287.2722516779571\n",
            "18 : params = [[13.90946689  1.57079633  0.        ]] : likelihood = 51.453038127207556\n",
            "19 : params = [[71.36902819  1.57079633 28.95754523]] : likelihood = 49.186147320975785\n",
            "20 : params = [[36.07795864  0.13201771 37.71510016]] : likelihood = 287.2722516779571\n",
            "21 : params = [[64.79546141  1.57079633 26.29038482]] : likelihood = 49.18614732097948\n",
            "22 : params = [[22.6014079   1.57079633  9.17039882]] : likelihood = 49.18614732099106\n",
            "23 : params = [[81.88338397  0.10913645 32.75673017]] : likelihood = 287.2722516779571\n",
            "24 : params = [[56.97514791  1.57079633 23.11727458]] : likelihood = 49.186147320994785\n",
            "25 : params = [[43.34964169  1.57079633 17.58880523]] : likelihood = 49.18614732101391\n",
            "26 : params = [[62.31804093  1.57079633 25.28515934]] : likelihood = 49.186147320976\n",
            "27 : params = [[64.72504745  1.57079633 26.26177146]] : likelihood = 49.18614732097925\n",
            "28 : params = [[46.79302781  1.57079633 18.98599118]] : likelihood = 49.18614732097627\n",
            "29 : params = [[28.56382877  1.57079633 11.58946514]] : likelihood = 49.186147321684814\n",
            "30 : params = [[65.05370549  1.57079633 26.39519504]] : likelihood = 49.18614732099579\n",
            "31 : params = [[48.96221556  1.57079633 19.86633964]] : likelihood = 49.18614732162447\n",
            "32 : params = [[74.39169147  1.57079633 30.18424148]] : likelihood = 49.186147321390706\n",
            "33 : params = [[45.92183228  1.57079633 18.63247446]] : likelihood = 49.18614732098823\n",
            "34 : params = [[31.39789766  0.0810156  35.52767747]] : likelihood = 287.2722516779571\n",
            "35 : params = [[85.62333586  1.57079633 34.74108462]] : likelihood = 49.18614732099215\n",
            "36 : params = [[65.96426965  1.57079633 26.76444938]] : likelihood = 49.18614732114295\n",
            "37 : params = [[56.99280214  1.57079633 23.12449709]] : likelihood = 49.18614732097818\n",
            "38 : params = [[95.42130744  1.57079633 38.71701599]] : likelihood = 49.186147321551154\n",
            "39 : params = [[87.3669664   1.57079633 35.44836078]] : likelihood = 49.18614732124467\n",
            "40 : params = [[54.32603078  1.57079633 22.04240452]] : likelihood = 49.18614732100388\n",
            "41 : params = [[92.07554198  1.57079633 37.35909703]] : likelihood = 49.18614732097602\n",
            "42 : params = [[38.3068416   1.57079633 15.5428076 ]] : likelihood = 49.186147321011845\n",
            "43 : params = [[52.60499672  1.57079633 21.34427544]] : likelihood = 49.18614732114137\n",
            "44 : params = [[84.55057643  0.20442531 45.77910259]] : likelihood = 287.2722516779571\n",
            "45 : params = [[83.37303053  1.57079633 33.82820593]] : likelihood = 49.18614732102972\n",
            "46 : params = [[92.52977468  1.57079633 37.54320516]] : likelihood = 49.18614732110587\n",
            "47 : params = [[41.15836141  1.57079633 16.69978785]] : likelihood = 49.1861473209978\n",
            "48 : params = [[21.66372374  1.57079633  8.78991184]] : likelihood = 49.18614732098531\n",
            "49 : params = [[48.8850678   1.57079633 19.83484803]] : likelihood = 49.18614732098812\n",
            "[71.36902819  1.57079633 28.95754523]\n"
          ]
        }
      ]
    },
    {
      "cell_type": "markdown",
      "metadata": {
        "id": "4RKCZSXTGncd"
      },
      "source": [
        "Get another random brain voxel and use the GP model to predict its signal.\n",
        "\n",
        "The problem in the obtained parameters is that both 'lambda' and 'a' get as high as boundaries allow. This typically means that found solution is not a global minimum."
      ]
    },
    {
      "cell_type": "code",
      "metadata": {
        "colab": {
          "base_uri": "https://localhost:8080/",
          "height": 265
        },
        "id": "mAHD7n8jHbFl",
        "outputId": "ad8e749a-8a38-4495-9bc4-ea254f3ccc53"
      },
      "source": [
        "params = np.array([18.61308973,  1.57079633,  7.54946033])\n",
        "while True:\n",
        "  selection2 = np.random.choice(idx.flatten(), 1)\n",
        "  if np.sum(selection2 == selection) == 0:\n",
        "    break # test data is not part of training data\n",
        "\n",
        "y0 = data1[selection2,np.argwhere(~gtab.b0s_mask)]\n",
        "y1 = data1[selection2,np.argwhere(~gtab.b0s_mask)]\n",
        "\n",
        "#y1 = y1 - np.mean(y1)\n",
        "pred, std = posterior(params, theta11, theta12, theta22, y1)\n",
        "pred = pred.flatten()\n",
        "\n",
        "plt.plot(y1, label='signal', linewidth=4, color='C00')\n",
        "plt.plot(pred, label='prediction', color='C01')\n",
        "plt.fill_between(np.linspace(0, len(pred)-1, len(pred)), pred+1.96*std, pred-1.96*std, label='95%', alpha=0.5, facecolor='C01')\n",
        "plt.legend()\n",
        "plt.grid()"
      ],
      "execution_count": null,
      "outputs": [
        {
          "output_type": "display_data",
          "data": {
            "image/png": "[encoded data removed]",
            "text/plain": [
              "<Figure size 432x288 with 1 Axes>"
            ]
          },
          "metadata": {
            "needs_background": "light"
          }
        }
      ]
    },
    {
      "cell_type": "markdown",
      "metadata": {
        "id": "xbB6mofEapuN"
      },
      "source": [
        "Adding outliers highlight the failed optimization: model with these parameters is not robust towards outliers."
      ]
    },
    {
      "cell_type": "code",
      "metadata": {
        "colab": {
          "base_uri": "https://localhost:8080/",
          "height": 314
        },
        "id": "FTu2WkzKa0MU",
        "outputId": "af6b8d0f-6766-4149-cf64-62b3b8c0bc3b"
      },
      "source": [
        "y1 = data1[selection2,np.argwhere(~gtab.b0s_mask)]\n",
        "# OUTLIER\n",
        "oi = np.array([5]) #, 17, 28, 15, 20, 25, 10, 3, 12, 7])\n",
        "non_out_inds = np.arange(len(y1))\n",
        "non_out_inds = np.delete(non_out_inds, oi)\n",
        "y1[oi] = 1.1\n",
        "#y0 = y0 - np.mean(y0)\n",
        "#y1 = y1 - np.mean(y1)\n",
        "pred, std = posterior(params, theta11, theta12, theta22, y1)\n",
        "pred = pred.flatten()\n",
        "\n",
        "plt.plot(y0, label='original signal', linewidth=4, color='C00')\n",
        "plt.plot(y1, label='artefactual', linewidth=4, color='C01')\n",
        "plt.plot(pred, label='prediction from artefactual', color='C02')\n",
        "plt.fill_between(np.linspace(0, len(pred)-1, len(pred)), pred+1.96*std, pred-1.96*std, label='95%', alpha=0.5, facecolor='C02')\n",
        "plt.legend()\n",
        "plt.grid()\n",
        "#plt.ylabel('STD')\n",
        "plt.xlabel('#DWI')\n",
        "print(f'Difference between outlier and corresponding prediction: {np.round(np.abs(pred[oi]-y1[oi].flatten())/std[oi],1)} stds')\n",
        "print(f'Average difference other points and corresponding predictions: {np.round(np.average(np.abs(pred[non_out_inds]-y1[non_out_inds])/std[non_out_inds]),1)} stds')"
      ],
      "execution_count": null,
      "outputs": [
        {
          "output_type": "stream",
          "name": "stdout",
          "text": [
            "Difference between outlier and corresponding prediction: [4.4] stds\n",
            "Average difference other points and corresponding predictions: 1.2 stds\n"
          ]
        },
        {
          "output_type": "display_data",
          "data": {
            "image/png": "[encoded data removed]",
            "text/plain": [
              "<Figure size 432x288 with 1 Axes>"
            ]
          },
          "metadata": {
            "needs_background": "light"
          }
        }
      ]
    }
  ]
}