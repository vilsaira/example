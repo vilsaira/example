{
  "nbformat": 4,
  "nbformat_minor": 0,
  "metadata": {
    "colab": {
      "name": "dMRI_signal_GP_prediction.ipynb",
      "provenance": [],
      "collapsed_sections": [],
      "authorship_tag": "ABX9TyMC7q3xmsPWALsqcp6vgr5P",
      "include_colab_link": true
    },
    "kernelspec": {
      "name": "python3",
      "display_name": "Python 3"
    },
    "language_info": {
      "name": "python"
    }
  },
  "cells": [
    {
      "cell_type": "markdown",
      "metadata": {
        "id": "view-in-github",
        "colab_type": "text"
      },
      "source": [
        "<a href=\"https://colab.research.google.com/github/vilsaira/example/blob/main/dMRI_signal_GP_prediction.ipynb\" target=\"_parent\"><img src=\"https://colab.research.google.com/assets/colab-badge.svg\" alt=\"Open In Colab\"/></a>"
      ]
    },
    {
      "cell_type": "markdown",
      "metadata": {
        "id": "CsahaUZSO6iF"
      },
      "source": [
        "Install and/or upgrade packages"
      ]
    },
    {
      "cell_type": "code",
      "metadata": {
        "id": "U2LrllqMO9JM"
      },
      "source": [
        "!pip install dipy #Install dipy to colab environment\n",
        "!pip install scipy\n",
        "!pip install numpy\n",
        "!pip install matplotlib\n",
        "!pip install pyDOE\n",
        "!pip install scipy --upgrade # Upgrade packages if needed, remember to restart kernel afterwards!"
      ],
      "execution_count": null,
      "outputs": []
    },
    {
      "cell_type": "markdown",
      "metadata": {
        "id": "9DTGw6frC6yF"
      },
      "source": [
        "Get test data using dipy. Download takes about a minute. This example uses just b=1000 shell."
      ]
    },
    {
      "cell_type": "code",
      "metadata": {
        "colab": {
          "base_uri": "https://localhost:8080/"
        },
        "id": "MDJhWcaxCZts",
        "outputId": "e94d406c-b820-4425-f91a-03604b87aa40"
      },
      "source": [
        "import numpy as np\n",
        "import matplotlib.pyplot as plt\n",
        "from dipy.core.gradients import gradient_table\n",
        "from dipy.io.gradients import read_bvals_bvecs\n",
        "from dipy.io.image import load_nifti\n",
        "from dipy.data import get_sphere, get_fnames\n",
        "\n",
        "# Example from https://www.dipy.org/documentation/1.3.0./examples_built/reconst_mcsd/\n",
        "sphere = get_sphere('symmetric724')\n",
        "\n",
        "fraw, fbval, fbvec, t1_fname = get_fnames('cfin_multib')\n",
        "\n",
        "data, affine = load_nifti(fraw)\n",
        "bvals, bvecs = read_bvals_bvecs(fbval, fbvec)\n",
        "gtab = gradient_table(bvals, bvecs)\n",
        "\n",
        "bvals = gtab.bvals\n",
        "bvecs = gtab.bvecs\n",
        "\n",
        "#sel_b = np.logical_or(np.logical_or(bvals == 0, bvals == 1000), bvals == 2000)\n",
        "sel_b = np.logical_or(bvals == 0, bvals == 1000)\n",
        "data = data[..., sel_b]\n",
        "\n",
        "gtab = gradient_table(bvals[sel_b], bvecs[sel_b])\n",
        "bvals = gtab.bvals\n",
        "bvecs = gtab.gradients"
      ],
      "execution_count": null,
      "outputs": [
        {
          "output_type": "stream",
          "name": "stdout",
          "text": [
            "Requirement already satisfied: dipy in /usr/local/lib/python3.7/dist-packages (1.4.1)\n",
            "Requirement already satisfied: tqdm>=4.30.0 in /usr/local/lib/python3.7/dist-packages (from dipy) (4.62.2)\n",
            "Requirement already satisfied: scipy>=1.0 in /usr/local/lib/python3.7/dist-packages (from dipy) (1.7.1)\n",
            "Requirement already satisfied: nibabel>=3.0.0 in /usr/local/lib/python3.7/dist-packages (from dipy) (3.0.2)\n",
            "Requirement already satisfied: h5py>=2.5.0 in /usr/local/lib/python3.7/dist-packages (from dipy) (3.1.0)\n",
            "Requirement already satisfied: numpy>=1.14.5 in /usr/local/lib/python3.7/dist-packages (from h5py>=2.5.0->dipy) (1.19.5)\n",
            "Requirement already satisfied: cached-property in /usr/local/lib/python3.7/dist-packages (from h5py>=2.5.0->dipy) (1.5.2)\n",
            "Requirement already satisfied: scipy in /usr/local/lib/python3.7/dist-packages (1.7.1)\n",
            "Requirement already satisfied: numpy<1.23.0,>=1.16.5 in /usr/local/lib/python3.7/dist-packages (from scipy) (1.19.5)\n",
            "Requirement already satisfied: numpy in /usr/local/lib/python3.7/dist-packages (1.19.5)\n",
            "Requirement already satisfied: matplotlib in /usr/local/lib/python3.7/dist-packages (3.2.2)\n",
            "Requirement already satisfied: numpy>=1.11 in /usr/local/lib/python3.7/dist-packages (from matplotlib) (1.19.5)\n",
            "Requirement already satisfied: pyparsing!=2.0.4,!=2.1.2,!=2.1.6,>=2.0.1 in /usr/local/lib/python3.7/dist-packages (from matplotlib) (2.4.7)\n",
            "Requirement already satisfied: cycler>=0.10 in /usr/local/lib/python3.7/dist-packages (from matplotlib) (0.10.0)\n",
            "Requirement already satisfied: kiwisolver>=1.0.1 in /usr/local/lib/python3.7/dist-packages (from matplotlib) (1.3.2)\n",
            "Requirement already satisfied: python-dateutil>=2.1 in /usr/local/lib/python3.7/dist-packages (from matplotlib) (2.8.2)\n",
            "Requirement already satisfied: six in /usr/local/lib/python3.7/dist-packages (from cycler>=0.10->matplotlib) (1.15.0)\n",
            "Requirement already satisfied: pyDOE in /usr/local/lib/python3.7/dist-packages (0.3.8)\n",
            "Requirement already satisfied: numpy in /usr/local/lib/python3.7/dist-packages (from pyDOE) (1.19.5)\n",
            "Requirement already satisfied: scipy in /usr/local/lib/python3.7/dist-packages (from pyDOE) (1.7.1)\n",
            "Requirement already satisfied: scipy in /usr/local/lib/python3.7/dist-packages (1.7.1)\n",
            "Requirement already satisfied: numpy<1.23.0,>=1.16.5 in /usr/local/lib/python3.7/dist-packages (from scipy) (1.19.5)\n"
          ]
        }
      ]
    },
    {
      "cell_type": "markdown",
      "metadata": {
        "id": "NuGUOPQPC56_"
      },
      "source": [
        "Gaussian Process needs the angular distances between b-vectors."
      ]
    },
    {
      "cell_type": "code",
      "metadata": {
        "id": "KR52RUouD5OO"
      },
      "source": [
        "from scipy.optimize import minimize\n",
        "from scipy.optimize import Bounds\n",
        "from pyDOE import lhs\n",
        "from scipy.linalg import cholesky, det, solve\n",
        "\n",
        "\n",
        "def _unit_vector(vector):\n",
        "    return vector / np.linalg.norm(vector)\n",
        "\n",
        "def _angle_between(v1, v2):\n",
        "    v1_u = _unit_vector(v1)\n",
        "    v2_u = _unit_vector(v2)\n",
        "    return np.arccos(np.clip(np.dot(v1_u, v2_u), -1.0, 1.0))\n",
        "\n",
        "def angles(vecs):\n",
        "    n = vecs.shape[0]\n",
        "    C = np.zeros((n,n))\n",
        "    for i in range(n-1):\n",
        "        for j in range(i+1,n):\n",
        "            # Select smallest of two arccos|<g1,g2>| and arccos|<g1,-g2>|\n",
        "            C[i,j] = np.min((\n",
        "                _angle_between(vecs[i,:], vecs[j,:]), # g1, g2\n",
        "                 _angle_between(vecs[i,:], -vecs[j,:]))) #g1, -g2\n",
        "\n",
        "    C += C.T\n",
        "    C = np.nan_to_num(C)\n",
        "    return C"
      ],
      "execution_count": null,
      "outputs": []
    },
    {
      "cell_type": "markdown",
      "metadata": {
        "id": "I-2tnCGKELhM"
      },
      "source": [
        "Covariance matrix or kernel based on a spherical model (Eq. 10) for one shell case"
      ]
    },
    {
      "cell_type": "code",
      "metadata": {
        "id": "jpkLrPZXEQf9"
      },
      "source": [
        "def kernel_ss(lmbda, a, theta):\n",
        "    # Single shell kernel\n",
        "    # Exponential model (Eq. 9)\n",
        "    # K = lmbda * np.exp(-theta/a)\n",
        "    # Spherical model (Eq. 10)\n",
        "    K = lmbda * (theta <= a) * (1 - 3*theta/(2*a) + theta**3 / (2* a**3))\n",
        "    return K"
      ],
      "execution_count": null,
      "outputs": []
    },
    {
      "cell_type": "markdown",
      "metadata": {
        "id": "Of4PX34ZES7l"
      },
      "source": [
        "Log marginal likelihood function which returns the negative value for scipy minimization."
      ]
    },
    {
      "cell_type": "code",
      "metadata": {
        "id": "BVd1ba3kEhlV"
      },
      "source": [
        "def likelihood(params, theta, y):\n",
        "\n",
        "    lmbda = params[0]**2 #Ensure positive lambda\n",
        "    a = params[1]\n",
        "    sigmasq = params[2]**2  #Ensure positive sigmasq \n",
        "    n = y.shape[0]\n",
        "\n",
        "    Ky = kernel_ss(lmbda, a, theta) + sigmasq * np.eye(theta.shape[0]) + 1e-10 * np.eye(n)\n",
        "    # The last term of Ky (+1e10..) helps to avoid numerical problems in cholesky\n",
        "    L = cholesky(Ky, lower=True)\n",
        "    #Ky_inv = np.linalg.inv(Ky)\n",
        "\n",
        "    # |Ky| = np.det(Ky)\n",
        "    LnDetKy = np.sum( np.log( np.abs( np.diagonal(L)))) # This equals to 0.5*np.log(np.linalg.det(Ky))\n",
        "\n",
        "    # over all voxels\n",
        "    # vector version\n",
        "    alphas = solve(L.T, solve(L, y))\n",
        "    likes = -0.5 * y.T @ alphas - LnDetKy    \n",
        "    # trace is the sum over all voxels\n",
        "    like = np.trace(likes)\n",
        "    # loop version - much slower\n",
        "    # like = 0\n",
        "    #for i in range(y.shape[1]):\n",
        "    #    alpha = solve(L.T, solve(L, y[:,i]))\n",
        "    #    like += (-0.5 * y[:,i].T @ alpha - LnDetKy).flatten()\n",
        "    #    #y1 = np.atleast_2d(y[:,i]).T\n",
        "    #    #alpha = cho_solve((L.T,True), cho_solve((L, True), y1))\n",
        "    #    #like += (-0.5 * y1.T @ Ky_inv @ y1 - 0.5*np.log(np.linalg.det(Ky))).flatten()\n",
        "\n",
        "    # Return negative value to maximize likelihood with scipy minimization\n",
        "    return -like"
      ],
      "execution_count": null,
      "outputs": []
    },
    {
      "cell_type": "markdown",
      "metadata": {
        "id": "X3tG6IbHElOV"
      },
      "source": [
        "GP prediction function"
      ]
    },
    {
      "cell_type": "code",
      "metadata": {
        "id": "a5zOMZyGEpVt"
      },
      "source": [
        "def predict(params, theta, y):\n",
        "\n",
        "    lmbda = params[0]\n",
        "    a = params[1]\n",
        "    sigmasq = params[2]\n",
        "\n",
        "    n = y.shape[0]\n",
        "    m = y.shape[1]\n",
        "    one = np.ones((n,1)) \n",
        "\n",
        "    Ky = kernel_ss(lmbda, a, theta) + sigmasq * np.eye(n)\n",
        "    k = kernel_ss(lmbda, a, theta)\n",
        "    L = cholesky(Ky, lower=True)\n",
        "\n",
        "    mu = np.zeros((m,))\n",
        "    SigmaSqr = np.zeros((m,))\n",
        "    pred = np.zeros((n,m))\n",
        "    var = np.zeros((n,m))\n",
        "    # iterate over all voxels\n",
        "    for i in range(y.shape[1]):\n",
        "        y1 = np.atleast_2d(y[:,i]).T\n",
        "        #alpha = cho_solve((L.T, True), cho_solve((L, True), y1))\n",
        "        alpha = solve(L.T, solve(L, y1))\n",
        "\n",
        "        # Mean estimation\n",
        "        mu[i] = (one.T @ (solve(L, y1))) / (one.T @ (solve(L, one)))\n",
        "\n",
        "        # Variance estimation\n",
        "        tmp = (y1 - mu[i]*one)\n",
        "        SigmaSqr[i] = tmp.T @ (solve(L, tmp)) / n\n",
        "\n",
        "        # Mean prediction\n",
        "        pred[:, i] = (k.T @ alpha).flatten()\n",
        "\n",
        "        # Variance prediction\n",
        "        v = solve(L, k)\n",
        "        var[:, i] = np.diag(k - v.T @ v)\n",
        "\n",
        "    return pred, var"
      ],
      "execution_count": null,
      "outputs": []
    },
    {
      "cell_type": "markdown",
      "metadata": {
        "id": "soKC605-Eqyt"
      },
      "source": [
        "Get **theta** matrix [#ndwi, #ndwi] that contain angular distances and matrix **y** [#ndwi, #nvox] that contain DWI signals "
      ]
    },
    {
      "cell_type": "code",
      "metadata": {
        "id": "_UoFRTCoE1_V"
      },
      "source": [
        "N_vox = 1000 # number of voxels used in GP\n",
        "np.random.seed(seed=42)\n",
        "\n",
        "# theta matrix contains the angular distances between b-vecs [0, pi/2]\n",
        "theta = angles(bvecs[~gtab.b0s_mask,:])\n",
        "\n",
        "# apply rough brain masking\n",
        "brain_mask = np.sum(data[:,:,:,1:], axis=3) > 3000\n",
        "data1 = data * brain_mask[:,:,:,None]\n",
        "data1 = data1.reshape(np.prod(brain_mask.shape), data1.shape[-1]).astype(np.float32)\n",
        "idx = np.argwhere(data1[:,0] > 0)\n",
        "\n",
        "# select N_vox random voxels within the brain mask\n",
        "selection = np.random.choice(idx.flatten(), N_vox)\n",
        "\n",
        "y = np.log(data1[selection,np.argwhere(~gtab.b0s_mask)])"
      ],
      "execution_count": null,
      "outputs": []
    },
    {
      "cell_type": "markdown",
      "metadata": {
        "id": "hHxx2LzQF1zN"
      },
      "source": [
        "Set number of iterations, bounds for the optimization, and get random initial parameters."
      ]
    },
    {
      "cell_type": "code",
      "metadata": {
        "id": "e7LnX7hyF7FW"
      },
      "source": [
        "n_repeats = 10\n",
        "# bounds = [lambda, a, sigmasq]\n",
        "bounds = np.array([[0, 1e5], [1e-10, np.pi/2], [0, 1e5]])\n",
        "lhd = lhs(3, n_repeats)\n",
        "initial_params = (bounds[:,1] - bounds[:,0]) * lhd + bounds[:,0]"
      ],
      "execution_count": null,
      "outputs": []
    },
    {
      "cell_type": "markdown",
      "metadata": {
        "id": "Druruw9tGVj1"
      },
      "source": [
        "Run minimization and find the best solution over all iterations."
      ]
    },
    {
      "cell_type": "code",
      "metadata": {
        "colab": {
          "base_uri": "https://localhost:8080/"
        },
        "id": "4xqF1WOzGayF",
        "outputId": "899162c1-a9a1-40eb-8e9e-47dc5e4da6cc"
      },
      "source": [
        "# This takes few seconds so results are also hardcoded to the next step\n",
        "opt_para = np.zeros((n_repeats,3))\n",
        "opt_fun = np.zeros((n_repeats,1))\n",
        "for i in range(n_repeats):    \n",
        "    res = minimize(likelihood, initial_params[i,:], args=(theta, y), method='Nelder-Mead', bounds=bounds)\n",
        "    opt_para[i,:] = res.x\n",
        "    opt_fun[i,:] = res.fun\n",
        "    print(f\"{i} : params = [{res.x}] : likelihood = {res.fun}\")\n",
        "\n",
        "params = opt_para[np.argmin(opt_fun)]\n",
        "print(params)"
      ],
      "execution_count": null,
      "outputs": [
        {
          "output_type": "stream",
          "name": "stdout",
          "text": [
            "0 : params = [[1.67528515 1.57079633 0.        ]] : likelihood = 19654.437185125113\n",
            "1 : params = [[0.         1.57079633 4.59216944]] : likelihood = 66803.79604472898\n",
            "2 : params = [[1.67523068 1.57079633 0.        ]] : likelihood = 19654.43719146619\n",
            "3 : params = [[1.67523322 1.57079633 0.        ]] : likelihood = 19654.43718961837\n",
            "4 : params = [[0.         0.06802026 4.59217005]] : likelihood = 66803.7960446861\n",
            "5 : params = [[0.         0.34991524 4.59221901]] : likelihood = 66803.79604508406\n",
            "6 : params = [[0.         0.61627446 4.59216939]] : likelihood = 66803.79604473192\n",
            "7 : params = [[1.67529353 1.57079633 0.        ]] : likelihood = 19654.437190347366\n",
            "8 : params = [[0.         1.57079633 4.59216549]] : likelihood = 66803.79604503154\n",
            "9 : params = [[0.         0.0909095  4.59222837]] : likelihood = 66803.7960460147\n",
            "[1.67528515 1.57079633 0.        ]\n"
          ]
        }
      ]
    },
    {
      "cell_type": "markdown",
      "metadata": {
        "id": "4RKCZSXTGncd"
      },
      "source": [
        "Get another random brain voxel and use the GP model to predict its signal."
      ]
    },
    {
      "cell_type": "code",
      "metadata": {
        "colab": {
          "base_uri": "https://localhost:8080/",
          "height": 283
        },
        "id": "mAHD7n8jHbFl",
        "outputId": "006101a4-de30-4683-b35f-d9abc77fd069"
      },
      "source": [
        "params = np.array([1.67528515, 1.57079633, 0.])\n",
        "while True:\n",
        "  selection2 = np.random.choice(idx.flatten(), 1)\n",
        "  if np.sum(selection2 == selection) == 0:\n",
        "    break # test data is not part of training data\n",
        "\n",
        "y1 = np.log(data1[selection2,np.argwhere(~gtab.b0s_mask)])\n",
        "pred, var = predict(params, theta, y1)\n",
        "\n",
        "plt.plot(np.exp(y1), label='signal', linewidth=4)\n",
        "plt.plot(np.exp(pred), label='prediction')\n",
        "plt.legend()\n",
        "print(np.sqrt(np.sum( (y1 - pred)**2)))"
      ],
      "execution_count": null,
      "outputs": [
        {
          "output_type": "stream",
          "name": "stdout",
          "text": [
            "4.6151104473205536e-15\n"
          ]
        },
        {
          "output_type": "display_data",
          "data": {
            "image/png": "[encoded data removed]",
            "text/plain": [
              "<Figure size 432x288 with 1 Axes>"
            ]
          },
          "metadata": {
            "needs_background": "light"
          }
        }
      ]
    },
    {
      "cell_type": "markdown",
      "metadata": {
        "id": "xbB6mofEapuN"
      },
      "source": [
        "Adding outliers highlight the failed optimization: model with these parameters is clearly not robust towards outliers."
      ]
    },
    {
      "cell_type": "code",
      "metadata": {
        "colab": {
          "base_uri": "https://localhost:8080/",
          "height": 283
        },
        "id": "FTu2WkzKa0MU",
        "outputId": "63278bbc-37cf-4f30-ddbf-25fe41e4d831"
      },
      "source": [
        "while True:\n",
        "  selection2 = np.random.choice(idx.flatten(), 1)\n",
        "  if np.sum(selection2 == selection) == 0:\n",
        "    break # test data is not part of training data\n",
        "\n",
        "y1 = np.log(data1[selection2,np.argwhere(~gtab.b0s_mask)])\n",
        "# OUTLIER\n",
        "y1[10] = 1.1\n",
        "pred, var = predict(params, theta, y1)\n",
        "\n",
        "plt.plot(np.exp(y1), label='signal', linewidth=4)\n",
        "plt.plot(np.exp(pred), label='prediction')\n",
        "plt.legend()\n",
        "print(np.sqrt(np.sum( (y1 - pred)**2)))"
      ],
      "execution_count": null,
      "outputs": [
        {
          "output_type": "stream",
          "name": "stdout",
          "text": [
            "6.217248937900877e-15\n"
          ]
        },
        {
          "output_type": "display_data",
          "data": {
            "image/png": "[encoded data removed]",
            "text/plain": [
              "<Figure size 432x288 with 1 Axes>"
            ]
          },
          "metadata": {
            "needs_background": "light"
          }
        }
      ]
    }
  ]
}